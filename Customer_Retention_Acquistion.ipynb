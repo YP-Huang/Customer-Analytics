{
 "cells": [
  {
   "cell_type": "markdown",
   "id": "9dc2e672",
   "metadata": {},
   "source": [
    "### 1. import libraries and dataset, transform data type"
   ]
  },
  {
   "cell_type": "code",
   "execution_count": 88,
   "id": "bee0d6ba",
   "metadata": {},
   "outputs": [],
   "source": [
    "import pandas as pd\n",
    "import numpy as np"
   ]
  },
  {
   "cell_type": "code",
   "execution_count": 89,
   "id": "34d972ab",
   "metadata": {},
   "outputs": [],
   "source": [
    "import matplotlib.pyplot as plt\n",
    "import seaborn as sns"
   ]
  },
  {
   "cell_type": "code",
   "execution_count": 90,
   "id": "8791fa14",
   "metadata": {},
   "outputs": [],
   "source": [
    "%matplotlib inline"
   ]
  },
  {
   "cell_type": "code",
   "execution_count": 91,
   "id": "005e5b6e",
   "metadata": {},
   "outputs": [
    {
     "data": {
      "text/html": [
       "<div>\n",
       "<style scoped>\n",
       "    .dataframe tbody tr th:only-of-type {\n",
       "        vertical-align: middle;\n",
       "    }\n",
       "\n",
       "    .dataframe tbody tr th {\n",
       "        vertical-align: top;\n",
       "    }\n",
       "\n",
       "    .dataframe thead th {\n",
       "        text-align: right;\n",
       "    }\n",
       "</style>\n",
       "<table border=\"1\" class=\"dataframe\">\n",
       "  <thead>\n",
       "    <tr style=\"text-align: right;\">\n",
       "      <th></th>\n",
       "      <th>Unnamed: 0</th>\n",
       "      <th>Customer_ID</th>\n",
       "      <th>CategoryGroup</th>\n",
       "      <th>Category</th>\n",
       "      <th>InvoiceDate</th>\n",
       "      <th>Quantity</th>\n",
       "      <th>TotalPrice</th>\n",
       "      <th>Total Sales</th>\n",
       "    </tr>\n",
       "  </thead>\n",
       "  <tbody>\n",
       "    <tr>\n",
       "      <th>0</th>\n",
       "      <td>0</td>\n",
       "      <td>15550</td>\n",
       "      <td>Games &amp; Toys</td>\n",
       "      <td>Games &amp; Toys</td>\n",
       "      <td>2020-01-01</td>\n",
       "      <td>1</td>\n",
       "      <td>8</td>\n",
       "      <td>8</td>\n",
       "    </tr>\n",
       "    <tr>\n",
       "      <th>1</th>\n",
       "      <td>1</td>\n",
       "      <td>15550</td>\n",
       "      <td>Bags &amp; Purses</td>\n",
       "      <td>Jumbo Bag</td>\n",
       "      <td>2020-01-01</td>\n",
       "      <td>1</td>\n",
       "      <td>2</td>\n",
       "      <td>2</td>\n",
       "    </tr>\n",
       "    <tr>\n",
       "      <th>2</th>\n",
       "      <td>2</td>\n",
       "      <td>15550</td>\n",
       "      <td>Decorations</td>\n",
       "      <td>Doilies</td>\n",
       "      <td>2020-01-01</td>\n",
       "      <td>1</td>\n",
       "      <td>1</td>\n",
       "      <td>1</td>\n",
       "    </tr>\n",
       "    <tr>\n",
       "      <th>3</th>\n",
       "      <td>3</td>\n",
       "      <td>15550</td>\n",
       "      <td>Bags &amp; Purses</td>\n",
       "      <td>Purse</td>\n",
       "      <td>2020-01-01</td>\n",
       "      <td>2</td>\n",
       "      <td>3</td>\n",
       "      <td>6</td>\n",
       "    </tr>\n",
       "    <tr>\n",
       "      <th>4</th>\n",
       "      <td>4</td>\n",
       "      <td>15550</td>\n",
       "      <td>Bags &amp; Purses</td>\n",
       "      <td>Purse</td>\n",
       "      <td>2020-01-01</td>\n",
       "      <td>2</td>\n",
       "      <td>3</td>\n",
       "      <td>6</td>\n",
       "    </tr>\n",
       "    <tr>\n",
       "      <th>...</th>\n",
       "      <td>...</td>\n",
       "      <td>...</td>\n",
       "      <td>...</td>\n",
       "      <td>...</td>\n",
       "      <td>...</td>\n",
       "      <td>...</td>\n",
       "      <td>...</td>\n",
       "      <td>...</td>\n",
       "    </tr>\n",
       "    <tr>\n",
       "      <th>395883</th>\n",
       "      <td>395883</td>\n",
       "      <td>12713</td>\n",
       "      <td>Bags &amp; Purses</td>\n",
       "      <td>Backpack &amp; Rucksack</td>\n",
       "      <td>2021-11-06</td>\n",
       "      <td>4</td>\n",
       "      <td>17</td>\n",
       "      <td>68</td>\n",
       "    </tr>\n",
       "    <tr>\n",
       "      <th>395884</th>\n",
       "      <td>395884</td>\n",
       "      <td>12713</td>\n",
       "      <td>Candles</td>\n",
       "      <td>Candles</td>\n",
       "      <td>2021-11-06</td>\n",
       "      <td>24</td>\n",
       "      <td>30</td>\n",
       "      <td>720</td>\n",
       "    </tr>\n",
       "    <tr>\n",
       "      <th>395885</th>\n",
       "      <td>395885</td>\n",
       "      <td>12713</td>\n",
       "      <td>Candles</td>\n",
       "      <td>Candles</td>\n",
       "      <td>2021-11-06</td>\n",
       "      <td>24</td>\n",
       "      <td>30</td>\n",
       "      <td>720</td>\n",
       "    </tr>\n",
       "    <tr>\n",
       "      <th>395886</th>\n",
       "      <td>395886</td>\n",
       "      <td>12713</td>\n",
       "      <td>Candles</td>\n",
       "      <td>Candles</td>\n",
       "      <td>2021-11-06</td>\n",
       "      <td>24</td>\n",
       "      <td>30</td>\n",
       "      <td>720</td>\n",
       "    </tr>\n",
       "    <tr>\n",
       "      <th>395887</th>\n",
       "      <td>395887</td>\n",
       "      <td>12713</td>\n",
       "      <td>Stationery &amp; Office Supplies</td>\n",
       "      <td>Postage</td>\n",
       "      <td>2021-11-06</td>\n",
       "      <td>3</td>\n",
       "      <td>54</td>\n",
       "      <td>162</td>\n",
       "    </tr>\n",
       "  </tbody>\n",
       "</table>\n",
       "<p>395888 rows × 8 columns</p>\n",
       "</div>"
      ],
      "text/plain": [
       "        Unnamed: 0  Customer_ID                 CategoryGroup  \\\n",
       "0                0        15550                  Games & Toys   \n",
       "1                1        15550                 Bags & Purses   \n",
       "2                2        15550                   Decorations   \n",
       "3                3        15550                 Bags & Purses   \n",
       "4                4        15550                 Bags & Purses   \n",
       "...            ...          ...                           ...   \n",
       "395883      395883        12713                 Bags & Purses   \n",
       "395884      395884        12713                       Candles   \n",
       "395885      395885        12713                       Candles   \n",
       "395886      395886        12713                       Candles   \n",
       "395887      395887        12713  Stationery & Office Supplies   \n",
       "\n",
       "                   Category InvoiceDate  Quantity  TotalPrice  Total Sales  \n",
       "0              Games & Toys  2020-01-01         1           8            8  \n",
       "1                 Jumbo Bag  2020-01-01         1           2            2  \n",
       "2                   Doilies  2020-01-01         1           1            1  \n",
       "3                     Purse  2020-01-01         2           3            6  \n",
       "4                     Purse  2020-01-01         2           3            6  \n",
       "...                     ...         ...       ...         ...          ...  \n",
       "395883  Backpack & Rucksack  2021-11-06         4          17           68  \n",
       "395884              Candles  2021-11-06        24          30          720  \n",
       "395885              Candles  2021-11-06        24          30          720  \n",
       "395886              Candles  2021-11-06        24          30          720  \n",
       "395887              Postage  2021-11-06         3          54          162  \n",
       "\n",
       "[395888 rows x 8 columns]"
      ]
     },
     "execution_count": 91,
     "metadata": {},
     "output_type": "execute_result"
    }
   ],
   "source": [
    "df = pd.read_csv(\"Retail Customer Analytics Cleaned data.csv\")\n",
    "df"
   ]
  },
  {
   "cell_type": "code",
   "execution_count": 92,
   "id": "dc7b51a2",
   "metadata": {},
   "outputs": [
    {
     "data": {
      "text/html": [
       "<div>\n",
       "<style scoped>\n",
       "    .dataframe tbody tr th:only-of-type {\n",
       "        vertical-align: middle;\n",
       "    }\n",
       "\n",
       "    .dataframe tbody tr th {\n",
       "        vertical-align: top;\n",
       "    }\n",
       "\n",
       "    .dataframe thead th {\n",
       "        text-align: right;\n",
       "    }\n",
       "</style>\n",
       "<table border=\"1\" class=\"dataframe\">\n",
       "  <thead>\n",
       "    <tr style=\"text-align: right;\">\n",
       "      <th></th>\n",
       "      <th>Unnamed: 0</th>\n",
       "      <th>Customer_ID</th>\n",
       "      <th>CategoryGroup</th>\n",
       "      <th>Category</th>\n",
       "      <th>InvoiceDate</th>\n",
       "      <th>Quantity</th>\n",
       "      <th>TotalPrice</th>\n",
       "      <th>Total Sales</th>\n",
       "    </tr>\n",
       "  </thead>\n",
       "  <tbody>\n",
       "    <tr>\n",
       "      <th>0</th>\n",
       "      <td>0</td>\n",
       "      <td>15550</td>\n",
       "      <td>Games &amp; Toys</td>\n",
       "      <td>Games &amp; Toys</td>\n",
       "      <td>2020-01-01</td>\n",
       "      <td>1</td>\n",
       "      <td>8</td>\n",
       "      <td>8</td>\n",
       "    </tr>\n",
       "    <tr>\n",
       "      <th>1</th>\n",
       "      <td>1</td>\n",
       "      <td>15550</td>\n",
       "      <td>Bags &amp; Purses</td>\n",
       "      <td>Jumbo Bag</td>\n",
       "      <td>2020-01-01</td>\n",
       "      <td>1</td>\n",
       "      <td>2</td>\n",
       "      <td>2</td>\n",
       "    </tr>\n",
       "  </tbody>\n",
       "</table>\n",
       "</div>"
      ],
      "text/plain": [
       "   Unnamed: 0  Customer_ID  CategoryGroup      Category InvoiceDate  Quantity  \\\n",
       "0           0        15550   Games & Toys  Games & Toys  2020-01-01         1   \n",
       "1           1        15550  Bags & Purses     Jumbo Bag  2020-01-01         1   \n",
       "\n",
       "   TotalPrice  Total Sales  \n",
       "0           8            8  \n",
       "1           2            2  "
      ]
     },
     "execution_count": 92,
     "metadata": {},
     "output_type": "execute_result"
    }
   ],
   "source": [
    "df.head(2)"
   ]
  },
  {
   "cell_type": "code",
   "execution_count": 93,
   "id": "058214fe",
   "metadata": {},
   "outputs": [],
   "source": [
    "df['InvoiceDate'] = df['InvoiceDate'].apply(pd.to_datetime)"
   ]
  },
  {
   "cell_type": "code",
   "execution_count": null,
   "id": "def9bed6",
   "metadata": {},
   "outputs": [],
   "source": []
  },
  {
   "cell_type": "code",
   "execution_count": null,
   "id": "16d5f48b",
   "metadata": {},
   "outputs": [],
   "source": []
  },
  {
   "cell_type": "markdown",
   "id": "4419e334",
   "metadata": {},
   "source": [
    "### 2. find out 2020, 2021 customers, repeat customers, lost customers, and new customers "
   ]
  },
  {
   "cell_type": "code",
   "execution_count": 94,
   "id": "5e1e7c35",
   "metadata": {},
   "outputs": [],
   "source": [
    "df_2020 = df[df['InvoiceDate']<\"2021-01-01\"]"
   ]
  },
  {
   "cell_type": "code",
   "execution_count": 95,
   "id": "cf1f1708",
   "metadata": {},
   "outputs": [],
   "source": [
    "customer_2020 = pd.DataFrame(df_2020.groupby(['Customer_ID'], as_index=False)['Total Sales'].sum())"
   ]
  },
  {
   "cell_type": "code",
   "execution_count": 96,
   "id": "24bd7119",
   "metadata": {},
   "outputs": [
    {
     "data": {
      "text/html": [
       "<div>\n",
       "<style scoped>\n",
       "    .dataframe tbody tr th:only-of-type {\n",
       "        vertical-align: middle;\n",
       "    }\n",
       "\n",
       "    .dataframe tbody tr th {\n",
       "        vertical-align: top;\n",
       "    }\n",
       "\n",
       "    .dataframe thead th {\n",
       "        text-align: right;\n",
       "    }\n",
       "</style>\n",
       "<table border=\"1\" class=\"dataframe\">\n",
       "  <thead>\n",
       "    <tr style=\"text-align: right;\">\n",
       "      <th></th>\n",
       "      <th>Customer_ID</th>\n",
       "      <th>Total Sales</th>\n",
       "    </tr>\n",
       "  </thead>\n",
       "  <tbody>\n",
       "    <tr>\n",
       "      <th>0</th>\n",
       "      <td>12348</td>\n",
       "      <td>87641</td>\n",
       "    </tr>\n",
       "    <tr>\n",
       "      <th>1</th>\n",
       "      <td>12349</td>\n",
       "      <td>22608</td>\n",
       "    </tr>\n",
       "  </tbody>\n",
       "</table>\n",
       "</div>"
      ],
      "text/plain": [
       "   Customer_ID  Total Sales\n",
       "0        12348        87641\n",
       "1        12349        22608"
      ]
     },
     "execution_count": 96,
     "metadata": {},
     "output_type": "execute_result"
    }
   ],
   "source": [
    "customer_2020.head(2)"
   ]
  },
  {
   "cell_type": "code",
   "execution_count": 97,
   "id": "ef27c854",
   "metadata": {},
   "outputs": [],
   "source": [
    "df_2021 = df[df['InvoiceDate']>\"2020-12-31\"]"
   ]
  },
  {
   "cell_type": "code",
   "execution_count": 98,
   "id": "42fd314a",
   "metadata": {},
   "outputs": [],
   "source": [
    "customer_2021 = pd.DataFrame(df_2021.groupby(['Customer_ID'], as_index=False)['Total Sales'].sum())"
   ]
  },
  {
   "cell_type": "code",
   "execution_count": 99,
   "id": "00baabeb",
   "metadata": {},
   "outputs": [
    {
     "data": {
      "text/html": [
       "<div>\n",
       "<style scoped>\n",
       "    .dataframe tbody tr th:only-of-type {\n",
       "        vertical-align: middle;\n",
       "    }\n",
       "\n",
       "    .dataframe tbody tr th {\n",
       "        vertical-align: top;\n",
       "    }\n",
       "\n",
       "    .dataframe thead th {\n",
       "        text-align: right;\n",
       "    }\n",
       "</style>\n",
       "<table border=\"1\" class=\"dataframe\">\n",
       "  <thead>\n",
       "    <tr style=\"text-align: right;\">\n",
       "      <th></th>\n",
       "      <th>Customer_ID</th>\n",
       "      <th>Total Sales</th>\n",
       "    </tr>\n",
       "  </thead>\n",
       "  <tbody>\n",
       "    <tr>\n",
       "      <th>0</th>\n",
       "      <td>12348</td>\n",
       "      <td>55940</td>\n",
       "    </tr>\n",
       "    <tr>\n",
       "      <th>1</th>\n",
       "      <td>12349</td>\n",
       "      <td>14086</td>\n",
       "    </tr>\n",
       "  </tbody>\n",
       "</table>\n",
       "</div>"
      ],
      "text/plain": [
       "   Customer_ID  Total Sales\n",
       "0        12348        55940\n",
       "1        12349        14086"
      ]
     },
     "execution_count": 99,
     "metadata": {},
     "output_type": "execute_result"
    }
   ],
   "source": [
    "customer_2021.head(2)"
   ]
  },
  {
   "cell_type": "code",
   "execution_count": 100,
   "id": "c8432cbf",
   "metadata": {},
   "outputs": [],
   "source": [
    "customer_retained = pd.merge(customer_2020, customer_2021, on='Customer_ID')"
   ]
  },
  {
   "cell_type": "code",
   "execution_count": 101,
   "id": "735893e6",
   "metadata": {},
   "outputs": [
    {
     "data": {
      "text/html": [
       "<div>\n",
       "<style scoped>\n",
       "    .dataframe tbody tr th:only-of-type {\n",
       "        vertical-align: middle;\n",
       "    }\n",
       "\n",
       "    .dataframe tbody tr th {\n",
       "        vertical-align: top;\n",
       "    }\n",
       "\n",
       "    .dataframe thead th {\n",
       "        text-align: right;\n",
       "    }\n",
       "</style>\n",
       "<table border=\"1\" class=\"dataframe\">\n",
       "  <thead>\n",
       "    <tr style=\"text-align: right;\">\n",
       "      <th></th>\n",
       "      <th>Customer_ID</th>\n",
       "      <th>Total Sales_x</th>\n",
       "      <th>Total Sales_y</th>\n",
       "    </tr>\n",
       "  </thead>\n",
       "  <tbody>\n",
       "    <tr>\n",
       "      <th>0</th>\n",
       "      <td>12348</td>\n",
       "      <td>87641</td>\n",
       "      <td>55940</td>\n",
       "    </tr>\n",
       "    <tr>\n",
       "      <th>1</th>\n",
       "      <td>12349</td>\n",
       "      <td>22608</td>\n",
       "      <td>14086</td>\n",
       "    </tr>\n",
       "  </tbody>\n",
       "</table>\n",
       "</div>"
      ],
      "text/plain": [
       "   Customer_ID  Total Sales_x  Total Sales_y\n",
       "0        12348          87641          55940\n",
       "1        12349          22608          14086"
      ]
     },
     "execution_count": 101,
     "metadata": {},
     "output_type": "execute_result"
    }
   ],
   "source": [
    "customer_retained.head(2)"
   ]
  },
  {
   "cell_type": "code",
   "execution_count": 102,
   "id": "2095eb43",
   "metadata": {},
   "outputs": [],
   "source": [
    "customer_retained_data = pd.merge(df, customer_retained['Customer_ID'], on = \"Customer_ID\")"
   ]
  },
  {
   "cell_type": "code",
   "execution_count": 103,
   "id": "d2cdeb94",
   "metadata": {},
   "outputs": [],
   "source": [
    "customer_retained_data['Type'] = \"Retained customer\""
   ]
  },
  {
   "cell_type": "code",
   "execution_count": 104,
   "id": "4097752b",
   "metadata": {},
   "outputs": [],
   "source": [
    "customer_lost = pd.DataFrame(pd.concat([customer_2020, customer_retained])['Customer_ID'].drop_duplicates(\n",
    "    keep=False), columns=['Customer_ID'])"
   ]
  },
  {
   "cell_type": "code",
   "execution_count": 105,
   "id": "23cdedc0",
   "metadata": {},
   "outputs": [],
   "source": [
    "customer_lost_data = pd.merge(df, customer_lost['Customer_ID'], on=\"Customer_ID\")"
   ]
  },
  {
   "cell_type": "code",
   "execution_count": 106,
   "id": "bc9f56af",
   "metadata": {},
   "outputs": [],
   "source": [
    "customer_lost_data['Type'] = \"Lost customer\""
   ]
  },
  {
   "cell_type": "code",
   "execution_count": 107,
   "id": "d88e3ff1",
   "metadata": {},
   "outputs": [],
   "source": [
    "customer_new = pd.DataFrame(pd.concat([customer_2021, customer_retained])['Customer_ID'].drop_duplicates(\n",
    "    keep=False), columns=[\"Customer_ID\"])"
   ]
  },
  {
   "cell_type": "code",
   "execution_count": 108,
   "id": "4698da40",
   "metadata": {},
   "outputs": [
    {
     "data": {
      "text/html": [
       "<div>\n",
       "<style scoped>\n",
       "    .dataframe tbody tr th:only-of-type {\n",
       "        vertical-align: middle;\n",
       "    }\n",
       "\n",
       "    .dataframe tbody tr th {\n",
       "        vertical-align: top;\n",
       "    }\n",
       "\n",
       "    .dataframe thead th {\n",
       "        text-align: right;\n",
       "    }\n",
       "</style>\n",
       "<table border=\"1\" class=\"dataframe\">\n",
       "  <thead>\n",
       "    <tr style=\"text-align: right;\">\n",
       "      <th></th>\n",
       "      <th>Customer_ID</th>\n",
       "    </tr>\n",
       "  </thead>\n",
       "  <tbody>\n",
       "    <tr>\n",
       "      <th>4</th>\n",
       "      <td>12354</td>\n",
       "    </tr>\n",
       "    <tr>\n",
       "      <th>9</th>\n",
       "      <td>12363</td>\n",
       "    </tr>\n",
       "    <tr>\n",
       "      <th>10</th>\n",
       "      <td>12364</td>\n",
       "    </tr>\n",
       "    <tr>\n",
       "      <th>11</th>\n",
       "      <td>12365</td>\n",
       "    </tr>\n",
       "    <tr>\n",
       "      <th>12</th>\n",
       "      <td>12367</td>\n",
       "    </tr>\n",
       "    <tr>\n",
       "      <th>...</th>\n",
       "      <td>...</td>\n",
       "    </tr>\n",
       "    <tr>\n",
       "      <th>3419</th>\n",
       "      <td>18261</td>\n",
       "    </tr>\n",
       "    <tr>\n",
       "      <th>3421</th>\n",
       "      <td>18263</td>\n",
       "    </tr>\n",
       "    <tr>\n",
       "      <th>3422</th>\n",
       "      <td>18265</td>\n",
       "    </tr>\n",
       "    <tr>\n",
       "      <th>3427</th>\n",
       "      <td>18274</td>\n",
       "    </tr>\n",
       "    <tr>\n",
       "      <th>3433</th>\n",
       "      <td>18282</td>\n",
       "    </tr>\n",
       "  </tbody>\n",
       "</table>\n",
       "<p>1441 rows × 1 columns</p>\n",
       "</div>"
      ],
      "text/plain": [
       "      Customer_ID\n",
       "4           12354\n",
       "9           12363\n",
       "10          12364\n",
       "11          12365\n",
       "12          12367\n",
       "...           ...\n",
       "3419        18261\n",
       "3421        18263\n",
       "3422        18265\n",
       "3427        18274\n",
       "3433        18282\n",
       "\n",
       "[1441 rows x 1 columns]"
      ]
     },
     "execution_count": 108,
     "metadata": {},
     "output_type": "execute_result"
    }
   ],
   "source": [
    "customer_new"
   ]
  },
  {
   "cell_type": "code",
   "execution_count": 109,
   "id": "e1efcc5c",
   "metadata": {},
   "outputs": [],
   "source": [
    "customer_new_data = pd.merge(df, customer_new, on = \"Customer_ID\")"
   ]
  },
  {
   "cell_type": "code",
   "execution_count": 110,
   "id": "cc0cef10",
   "metadata": {},
   "outputs": [],
   "source": [
    "customer_new_data['Type'] = \"New customer\""
   ]
  },
  {
   "cell_type": "code",
   "execution_count": 111,
   "id": "08f70691",
   "metadata": {},
   "outputs": [
    {
     "data": {
      "text/html": [
       "<div>\n",
       "<style scoped>\n",
       "    .dataframe tbody tr th:only-of-type {\n",
       "        vertical-align: middle;\n",
       "    }\n",
       "\n",
       "    .dataframe tbody tr th {\n",
       "        vertical-align: top;\n",
       "    }\n",
       "\n",
       "    .dataframe thead th {\n",
       "        text-align: right;\n",
       "    }\n",
       "</style>\n",
       "<table border=\"1\" class=\"dataframe\">\n",
       "  <thead>\n",
       "    <tr style=\"text-align: right;\">\n",
       "      <th></th>\n",
       "      <th>Unnamed: 0</th>\n",
       "      <th>Customer_ID</th>\n",
       "      <th>CategoryGroup</th>\n",
       "      <th>Category</th>\n",
       "      <th>InvoiceDate</th>\n",
       "      <th>Quantity</th>\n",
       "      <th>TotalPrice</th>\n",
       "      <th>Total Sales</th>\n",
       "      <th>Type</th>\n",
       "    </tr>\n",
       "  </thead>\n",
       "  <tbody>\n",
       "    <tr>\n",
       "      <th>0</th>\n",
       "      <td>210696</td>\n",
       "      <td>12502</td>\n",
       "      <td>Stationery &amp; Office Supplies</td>\n",
       "      <td>Postage</td>\n",
       "      <td>2021-01-01</td>\n",
       "      <td>4</td>\n",
       "      <td>112</td>\n",
       "      <td>448</td>\n",
       "      <td>New customer</td>\n",
       "    </tr>\n",
       "    <tr>\n",
       "      <th>1</th>\n",
       "      <td>210697</td>\n",
       "      <td>12502</td>\n",
       "      <td>Kitchen</td>\n",
       "      <td>Cake Plate</td>\n",
       "      <td>2021-01-01</td>\n",
       "      <td>3</td>\n",
       "      <td>15</td>\n",
       "      <td>45</td>\n",
       "      <td>New customer</td>\n",
       "    </tr>\n",
       "    <tr>\n",
       "      <th>2</th>\n",
       "      <td>210698</td>\n",
       "      <td>12502</td>\n",
       "      <td>Kitchen</td>\n",
       "      <td>Spoons</td>\n",
       "      <td>2021-01-01</td>\n",
       "      <td>12</td>\n",
       "      <td>20</td>\n",
       "      <td>240</td>\n",
       "      <td>New customer</td>\n",
       "    </tr>\n",
       "    <tr>\n",
       "      <th>3</th>\n",
       "      <td>210699</td>\n",
       "      <td>12502</td>\n",
       "      <td>Kitchen</td>\n",
       "      <td>Tea Plate</td>\n",
       "      <td>2021-01-01</td>\n",
       "      <td>3</td>\n",
       "      <td>13</td>\n",
       "      <td>39</td>\n",
       "      <td>New customer</td>\n",
       "    </tr>\n",
       "    <tr>\n",
       "      <th>4</th>\n",
       "      <td>210700</td>\n",
       "      <td>12502</td>\n",
       "      <td>Kitchen</td>\n",
       "      <td>Tea Cups &amp; Saucers</td>\n",
       "      <td>2021-01-01</td>\n",
       "      <td>12</td>\n",
       "      <td>10</td>\n",
       "      <td>120</td>\n",
       "      <td>New customer</td>\n",
       "    </tr>\n",
       "    <tr>\n",
       "      <th>...</th>\n",
       "      <td>...</td>\n",
       "      <td>...</td>\n",
       "      <td>...</td>\n",
       "      <td>...</td>\n",
       "      <td>...</td>\n",
       "      <td>...</td>\n",
       "      <td>...</td>\n",
       "      <td>...</td>\n",
       "      <td>...</td>\n",
       "    </tr>\n",
       "    <tr>\n",
       "      <th>76135</th>\n",
       "      <td>395883</td>\n",
       "      <td>12713</td>\n",
       "      <td>Bags &amp; Purses</td>\n",
       "      <td>Backpack &amp; Rucksack</td>\n",
       "      <td>2021-11-06</td>\n",
       "      <td>4</td>\n",
       "      <td>17</td>\n",
       "      <td>68</td>\n",
       "      <td>New customer</td>\n",
       "    </tr>\n",
       "    <tr>\n",
       "      <th>76136</th>\n",
       "      <td>395884</td>\n",
       "      <td>12713</td>\n",
       "      <td>Candles</td>\n",
       "      <td>Candles</td>\n",
       "      <td>2021-11-06</td>\n",
       "      <td>24</td>\n",
       "      <td>30</td>\n",
       "      <td>720</td>\n",
       "      <td>New customer</td>\n",
       "    </tr>\n",
       "    <tr>\n",
       "      <th>76137</th>\n",
       "      <td>395885</td>\n",
       "      <td>12713</td>\n",
       "      <td>Candles</td>\n",
       "      <td>Candles</td>\n",
       "      <td>2021-11-06</td>\n",
       "      <td>24</td>\n",
       "      <td>30</td>\n",
       "      <td>720</td>\n",
       "      <td>New customer</td>\n",
       "    </tr>\n",
       "    <tr>\n",
       "      <th>76138</th>\n",
       "      <td>395886</td>\n",
       "      <td>12713</td>\n",
       "      <td>Candles</td>\n",
       "      <td>Candles</td>\n",
       "      <td>2021-11-06</td>\n",
       "      <td>24</td>\n",
       "      <td>30</td>\n",
       "      <td>720</td>\n",
       "      <td>New customer</td>\n",
       "    </tr>\n",
       "    <tr>\n",
       "      <th>76139</th>\n",
       "      <td>395887</td>\n",
       "      <td>12713</td>\n",
       "      <td>Stationery &amp; Office Supplies</td>\n",
       "      <td>Postage</td>\n",
       "      <td>2021-11-06</td>\n",
       "      <td>3</td>\n",
       "      <td>54</td>\n",
       "      <td>162</td>\n",
       "      <td>New customer</td>\n",
       "    </tr>\n",
       "  </tbody>\n",
       "</table>\n",
       "<p>76140 rows × 9 columns</p>\n",
       "</div>"
      ],
      "text/plain": [
       "       Unnamed: 0  Customer_ID                 CategoryGroup  \\\n",
       "0          210696        12502  Stationery & Office Supplies   \n",
       "1          210697        12502                       Kitchen   \n",
       "2          210698        12502                       Kitchen   \n",
       "3          210699        12502                       Kitchen   \n",
       "4          210700        12502                       Kitchen   \n",
       "...           ...          ...                           ...   \n",
       "76135      395883        12713                 Bags & Purses   \n",
       "76136      395884        12713                       Candles   \n",
       "76137      395885        12713                       Candles   \n",
       "76138      395886        12713                       Candles   \n",
       "76139      395887        12713  Stationery & Office Supplies   \n",
       "\n",
       "                  Category InvoiceDate  Quantity  TotalPrice  Total Sales  \\\n",
       "0                  Postage  2021-01-01         4         112          448   \n",
       "1               Cake Plate  2021-01-01         3          15           45   \n",
       "2                   Spoons  2021-01-01        12          20          240   \n",
       "3                Tea Plate  2021-01-01         3          13           39   \n",
       "4       Tea Cups & Saucers  2021-01-01        12          10          120   \n",
       "...                    ...         ...       ...         ...          ...   \n",
       "76135  Backpack & Rucksack  2021-11-06         4          17           68   \n",
       "76136              Candles  2021-11-06        24          30          720   \n",
       "76137              Candles  2021-11-06        24          30          720   \n",
       "76138              Candles  2021-11-06        24          30          720   \n",
       "76139              Postage  2021-11-06         3          54          162   \n",
       "\n",
       "               Type  \n",
       "0      New customer  \n",
       "1      New customer  \n",
       "2      New customer  \n",
       "3      New customer  \n",
       "4      New customer  \n",
       "...             ...  \n",
       "76135  New customer  \n",
       "76136  New customer  \n",
       "76137  New customer  \n",
       "76138  New customer  \n",
       "76139  New customer  \n",
       "\n",
       "[76140 rows x 9 columns]"
      ]
     },
     "execution_count": 111,
     "metadata": {},
     "output_type": "execute_result"
    }
   ],
   "source": [
    "customer_new_data"
   ]
  },
  {
   "cell_type": "code",
   "execution_count": 112,
   "id": "c4a1e69f",
   "metadata": {},
   "outputs": [
    {
     "data": {
      "text/html": [
       "<div>\n",
       "<style scoped>\n",
       "    .dataframe tbody tr th:only-of-type {\n",
       "        vertical-align: middle;\n",
       "    }\n",
       "\n",
       "    .dataframe tbody tr th {\n",
       "        vertical-align: top;\n",
       "    }\n",
       "\n",
       "    .dataframe thead th {\n",
       "        text-align: right;\n",
       "    }\n",
       "</style>\n",
       "<table border=\"1\" class=\"dataframe\">\n",
       "  <thead>\n",
       "    <tr style=\"text-align: right;\">\n",
       "      <th></th>\n",
       "      <th>Unnamed: 0</th>\n",
       "      <th>Customer_ID</th>\n",
       "      <th>CategoryGroup</th>\n",
       "      <th>Category</th>\n",
       "      <th>InvoiceDate</th>\n",
       "      <th>Quantity</th>\n",
       "      <th>TotalPrice</th>\n",
       "      <th>Total Sales</th>\n",
       "      <th>Type</th>\n",
       "    </tr>\n",
       "  </thead>\n",
       "  <tbody>\n",
       "    <tr>\n",
       "      <th>0</th>\n",
       "      <td>0</td>\n",
       "      <td>15550</td>\n",
       "      <td>Games &amp; Toys</td>\n",
       "      <td>Games &amp; Toys</td>\n",
       "      <td>2020-01-01</td>\n",
       "      <td>1</td>\n",
       "      <td>8</td>\n",
       "      <td>8</td>\n",
       "      <td>Retained customer</td>\n",
       "    </tr>\n",
       "    <tr>\n",
       "      <th>1</th>\n",
       "      <td>1</td>\n",
       "      <td>15550</td>\n",
       "      <td>Bags &amp; Purses</td>\n",
       "      <td>Jumbo Bag</td>\n",
       "      <td>2020-01-01</td>\n",
       "      <td>1</td>\n",
       "      <td>2</td>\n",
       "      <td>2</td>\n",
       "      <td>Retained customer</td>\n",
       "    </tr>\n",
       "    <tr>\n",
       "      <th>2</th>\n",
       "      <td>2</td>\n",
       "      <td>15550</td>\n",
       "      <td>Decorations</td>\n",
       "      <td>Doilies</td>\n",
       "      <td>2020-01-01</td>\n",
       "      <td>1</td>\n",
       "      <td>1</td>\n",
       "      <td>1</td>\n",
       "      <td>Retained customer</td>\n",
       "    </tr>\n",
       "    <tr>\n",
       "      <th>3</th>\n",
       "      <td>3</td>\n",
       "      <td>15550</td>\n",
       "      <td>Bags &amp; Purses</td>\n",
       "      <td>Purse</td>\n",
       "      <td>2020-01-01</td>\n",
       "      <td>2</td>\n",
       "      <td>3</td>\n",
       "      <td>6</td>\n",
       "      <td>Retained customer</td>\n",
       "    </tr>\n",
       "    <tr>\n",
       "      <th>4</th>\n",
       "      <td>4</td>\n",
       "      <td>15550</td>\n",
       "      <td>Bags &amp; Purses</td>\n",
       "      <td>Purse</td>\n",
       "      <td>2020-01-01</td>\n",
       "      <td>2</td>\n",
       "      <td>3</td>\n",
       "      <td>6</td>\n",
       "      <td>Retained customer</td>\n",
       "    </tr>\n",
       "    <tr>\n",
       "      <th>...</th>\n",
       "      <td>...</td>\n",
       "      <td>...</td>\n",
       "      <td>...</td>\n",
       "      <td>...</td>\n",
       "      <td>...</td>\n",
       "      <td>...</td>\n",
       "      <td>...</td>\n",
       "      <td>...</td>\n",
       "      <td>...</td>\n",
       "    </tr>\n",
       "    <tr>\n",
       "      <th>256407</th>\n",
       "      <td>210412</td>\n",
       "      <td>16405</td>\n",
       "      <td>Lamps &amp; Lights</td>\n",
       "      <td>Metal Lanterns</td>\n",
       "      <td>2020-12-31</td>\n",
       "      <td>1</td>\n",
       "      <td>5</td>\n",
       "      <td>5</td>\n",
       "      <td>Retained customer</td>\n",
       "    </tr>\n",
       "    <tr>\n",
       "      <th>256408</th>\n",
       "      <td>210413</td>\n",
       "      <td>16405</td>\n",
       "      <td>Candles</td>\n",
       "      <td>T-Lights</td>\n",
       "      <td>2020-12-31</td>\n",
       "      <td>1</td>\n",
       "      <td>1</td>\n",
       "      <td>1</td>\n",
       "      <td>Retained customer</td>\n",
       "    </tr>\n",
       "    <tr>\n",
       "      <th>256409</th>\n",
       "      <td>210414</td>\n",
       "      <td>16405</td>\n",
       "      <td>Candles</td>\n",
       "      <td>T-Light Holder</td>\n",
       "      <td>2020-12-31</td>\n",
       "      <td>1</td>\n",
       "      <td>1</td>\n",
       "      <td>1</td>\n",
       "      <td>Retained customer</td>\n",
       "    </tr>\n",
       "    <tr>\n",
       "      <th>256410</th>\n",
       "      <td>212478</td>\n",
       "      <td>16405</td>\n",
       "      <td>Candles</td>\n",
       "      <td>T-Light Holder</td>\n",
       "      <td>2021-01-08</td>\n",
       "      <td>168</td>\n",
       "      <td>92</td>\n",
       "      <td>15456</td>\n",
       "      <td>Retained customer</td>\n",
       "    </tr>\n",
       "    <tr>\n",
       "      <th>256411</th>\n",
       "      <td>212479</td>\n",
       "      <td>16405</td>\n",
       "      <td>Lamps &amp; Lights</td>\n",
       "      <td>Metal Lanterns</td>\n",
       "      <td>2021-01-08</td>\n",
       "      <td>16</td>\n",
       "      <td>68</td>\n",
       "      <td>1088</td>\n",
       "      <td>Retained customer</td>\n",
       "    </tr>\n",
       "  </tbody>\n",
       "</table>\n",
       "<p>256412 rows × 9 columns</p>\n",
       "</div>"
      ],
      "text/plain": [
       "        Unnamed: 0  Customer_ID   CategoryGroup        Category InvoiceDate  \\\n",
       "0                0        15550    Games & Toys    Games & Toys  2020-01-01   \n",
       "1                1        15550   Bags & Purses       Jumbo Bag  2020-01-01   \n",
       "2                2        15550     Decorations         Doilies  2020-01-01   \n",
       "3                3        15550   Bags & Purses           Purse  2020-01-01   \n",
       "4                4        15550   Bags & Purses           Purse  2020-01-01   \n",
       "...            ...          ...             ...             ...         ...   \n",
       "256407      210412        16405  Lamps & Lights  Metal Lanterns  2020-12-31   \n",
       "256408      210413        16405         Candles        T-Lights  2020-12-31   \n",
       "256409      210414        16405         Candles  T-Light Holder  2020-12-31   \n",
       "256410      212478        16405         Candles  T-Light Holder  2021-01-08   \n",
       "256411      212479        16405  Lamps & Lights  Metal Lanterns  2021-01-08   \n",
       "\n",
       "        Quantity  TotalPrice  Total Sales               Type  \n",
       "0              1           8            8  Retained customer  \n",
       "1              1           2            2  Retained customer  \n",
       "2              1           1            1  Retained customer  \n",
       "3              2           3            6  Retained customer  \n",
       "4              2           3            6  Retained customer  \n",
       "...          ...         ...          ...                ...  \n",
       "256407         1           5            5  Retained customer  \n",
       "256408         1           1            1  Retained customer  \n",
       "256409         1           1            1  Retained customer  \n",
       "256410       168          92        15456  Retained customer  \n",
       "256411        16          68         1088  Retained customer  \n",
       "\n",
       "[256412 rows x 9 columns]"
      ]
     },
     "execution_count": 112,
     "metadata": {},
     "output_type": "execute_result"
    }
   ],
   "source": [
    "customer_retained_data"
   ]
  },
  {
   "cell_type": "code",
   "execution_count": 78,
   "id": "36259bc4",
   "metadata": {},
   "outputs": [],
   "source": [
    "df_updated = pd.concat([customer_new_data, customer_retained_data, customer_lost_data], axis=0)"
   ]
  },
  {
   "cell_type": "code",
   "execution_count": 86,
   "id": "27c06b1e",
   "metadata": {},
   "outputs": [
    {
     "data": {
      "text/plain": [
       "Index(['Unnamed: 0', 'Customer_ID', 'CategoryGroup', 'Category', 'InvoiceDate',\n",
       "       'Quantity', 'TotalPrice', 'Total Sales', 'Type'],\n",
       "      dtype='object')"
      ]
     },
     "execution_count": 86,
     "metadata": {},
     "output_type": "execute_result"
    }
   ],
   "source": [
    "df_updated.columns"
   ]
  },
  {
   "cell_type": "code",
   "execution_count": 87,
   "id": "0b31c498",
   "metadata": {},
   "outputs": [],
   "source": [
    "df_updated.drop(\"Unnamed: 0\", axis=1).to_csv(\"Final_data.csv\")"
   ]
  },
  {
   "cell_type": "code",
   "execution_count": null,
   "id": "f2919fe1",
   "metadata": {},
   "outputs": [],
   "source": []
  },
  {
   "cell_type": "markdown",
   "id": "362de337",
   "metadata": {},
   "source": [
    "### 3. Maketing cost calculation"
   ]
  },
  {
   "cell_type": "code",
   "execution_count": 151,
   "id": "228c1d94",
   "metadata": {},
   "outputs": [],
   "source": [
    "cost_retained = customer_retained_data[customer_retained_data[\"InvoiceDate\"]>\"2020-12-31\"]['Total Sales'].sum()*0.05"
   ]
  },
  {
   "cell_type": "code",
   "execution_count": 152,
   "id": "cb931dcb",
   "metadata": {},
   "outputs": [
    {
     "data": {
      "text/plain": [
       "1752414.5"
      ]
     },
     "execution_count": 152,
     "metadata": {},
     "output_type": "execute_result"
    }
   ],
   "source": [
    "cost_retained"
   ]
  },
  {
   "cell_type": "code",
   "execution_count": 161,
   "id": "28e57235",
   "metadata": {},
   "outputs": [],
   "source": [
    "avg_cost_per_rentention = cost_retained/2000"
   ]
  },
  {
   "cell_type": "code",
   "execution_count": 162,
   "id": "f67d9c65",
   "metadata": {},
   "outputs": [
    {
     "data": {
      "text/plain": [
       "876.20725"
      ]
     },
     "execution_count": 162,
     "metadata": {},
     "output_type": "execute_result"
    }
   ],
   "source": [
    "avg_cost_per_rentention"
   ]
  },
  {
   "cell_type": "code",
   "execution_count": 157,
   "id": "5c42837f",
   "metadata": {},
   "outputs": [],
   "source": [
    "cost_new = 1500*3*(cost_retained/2000)"
   ]
  },
  {
   "cell_type": "code",
   "execution_count": null,
   "id": "df6b9573",
   "metadata": {},
   "outputs": [],
   "source": []
  },
  {
   "cell_type": "code",
   "execution_count": 163,
   "id": "5b4f054f",
   "metadata": {},
   "outputs": [
    {
     "data": {
      "text/plain": [
       "3942932.625"
      ]
     },
     "execution_count": 163,
     "metadata": {},
     "output_type": "execute_result"
    }
   ],
   "source": [
    "cost_new"
   ]
  },
  {
   "cell_type": "code",
   "execution_count": 159,
   "id": "0fe6906d",
   "metadata": {},
   "outputs": [],
   "source": [
    "total_cost=cost_retained+cost_new"
   ]
  },
  {
   "cell_type": "code",
   "execution_count": 160,
   "id": "53289764",
   "metadata": {},
   "outputs": [
    {
     "data": {
      "text/plain": [
       "5695347.125"
      ]
     },
     "execution_count": 160,
     "metadata": {},
     "output_type": "execute_result"
    }
   ],
   "source": [
    "total_cost"
   ]
  },
  {
   "cell_type": "code",
   "execution_count": null,
   "id": "7551c204",
   "metadata": {},
   "outputs": [],
   "source": []
  }
 ],
 "metadata": {
  "kernelspec": {
   "display_name": "Python 3",
   "language": "python",
   "name": "python3"
  },
  "language_info": {
   "codemirror_mode": {
    "name": "ipython",
    "version": 3
   },
   "file_extension": ".py",
   "mimetype": "text/x-python",
   "name": "python",
   "nbconvert_exporter": "python",
   "pygments_lexer": "ipython3",
   "version": "3.8.8"
  }
 },
 "nbformat": 4,
 "nbformat_minor": 5
}
