{
 "cells": [
  {
   "cell_type": "markdown",
   "id": "c463f25d",
   "metadata": {},
   "source": [
    "## 1. Import libraries and Dataset"
   ]
  },
  {
   "cell_type": "code",
   "execution_count": 1,
   "id": "a181e5a1",
   "metadata": {},
   "outputs": [],
   "source": [
    "import pandas as pd\n",
    "import numpy as np"
   ]
  },
  {
   "cell_type": "code",
   "execution_count": 2,
   "id": "9dfe96a5",
   "metadata": {},
   "outputs": [],
   "source": [
    "import matplotlib.pyplot as plt\n",
    "import seaborn as sns"
   ]
  },
  {
   "cell_type": "code",
   "execution_count": 3,
   "id": "696a8dbd",
   "metadata": {},
   "outputs": [],
   "source": [
    "%matplotlib inline"
   ]
  },
  {
   "cell_type": "code",
   "execution_count": 4,
   "id": "b68f5d18",
   "metadata": {},
   "outputs": [
    {
     "name": "stderr",
     "output_type": "stream",
     "text": [
      "/Users/yapinghuang/opt/anaconda3/lib/python3.8/site-packages/IPython/core/interactiveshell.py:3165: DtypeWarning: Columns (4) have mixed types.Specify dtype option on import or set low_memory=False.\n",
      "  has_raised = await self.run_ast_nodes(code_ast.body, cell_name,\n"
     ]
    }
   ],
   "source": [
    "df = pd.read_csv('Retail Customer Analytics Assignment1.csv', encoding = 'utf-8', sep = '\\t')"
   ]
  },
  {
   "cell_type": "code",
   "execution_count": 5,
   "id": "16e415fd",
   "metadata": {},
   "outputs": [
    {
     "data": {
      "text/html": [
       "<div>\n",
       "<style scoped>\n",
       "    .dataframe tbody tr th:only-of-type {\n",
       "        vertical-align: middle;\n",
       "    }\n",
       "\n",
       "    .dataframe tbody tr th {\n",
       "        vertical-align: top;\n",
       "    }\n",
       "\n",
       "    .dataframe thead th {\n",
       "        text-align: right;\n",
       "    }\n",
       "</style>\n",
       "<table border=\"1\" class=\"dataframe\">\n",
       "  <thead>\n",
       "    <tr style=\"text-align: right;\">\n",
       "      <th></th>\n",
       "      <th>Customer_ID</th>\n",
       "      <th>CategoryGroup</th>\n",
       "      <th>Category</th>\n",
       "      <th>InvoiceDate</th>\n",
       "      <th>Quantity</th>\n",
       "      <th>TotalPrice</th>\n",
       "    </tr>\n",
       "  </thead>\n",
       "  <tbody>\n",
       "    <tr>\n",
       "      <th>0</th>\n",
       "      <td>15550</td>\n",
       "      <td>Games &amp; Toys</td>\n",
       "      <td>Games &amp; Toys</td>\n",
       "      <td>1/1/2020</td>\n",
       "      <td>1</td>\n",
       "      <td>£8</td>\n",
       "    </tr>\n",
       "    <tr>\n",
       "      <th>1</th>\n",
       "      <td>15550</td>\n",
       "      <td>Bags &amp; Purses</td>\n",
       "      <td>Jumbo Bag</td>\n",
       "      <td>1/1/2020</td>\n",
       "      <td>1</td>\n",
       "      <td>£2</td>\n",
       "    </tr>\n",
       "    <tr>\n",
       "      <th>2</th>\n",
       "      <td>15550</td>\n",
       "      <td>Decorations</td>\n",
       "      <td>Doilies</td>\n",
       "      <td>1/1/2020</td>\n",
       "      <td>1</td>\n",
       "      <td>£1</td>\n",
       "    </tr>\n",
       "    <tr>\n",
       "      <th>3</th>\n",
       "      <td>15550</td>\n",
       "      <td>Bags &amp; Purses</td>\n",
       "      <td>Purse</td>\n",
       "      <td>1/1/2020</td>\n",
       "      <td>2</td>\n",
       "      <td>£3</td>\n",
       "    </tr>\n",
       "    <tr>\n",
       "      <th>4</th>\n",
       "      <td>15550</td>\n",
       "      <td>Bags &amp; Purses</td>\n",
       "      <td>Purse</td>\n",
       "      <td>1/1/2020</td>\n",
       "      <td>2</td>\n",
       "      <td>£3</td>\n",
       "    </tr>\n",
       "  </tbody>\n",
       "</table>\n",
       "</div>"
      ],
      "text/plain": [
       "   Customer_ID  CategoryGroup      Category InvoiceDate Quantity TotalPrice\n",
       "0        15550   Games & Toys  Games & Toys    1/1/2020        1         £8\n",
       "1        15550  Bags & Purses     Jumbo Bag    1/1/2020        1         £2\n",
       "2        15550    Decorations       Doilies    1/1/2020        1         £1\n",
       "3        15550  Bags & Purses         Purse    1/1/2020        2         £3\n",
       "4        15550  Bags & Purses         Purse    1/1/2020        2         £3"
      ]
     },
     "execution_count": 5,
     "metadata": {},
     "output_type": "execute_result"
    }
   ],
   "source": [
    "df.head()"
   ]
  },
  {
   "cell_type": "code",
   "execution_count": 6,
   "id": "daa1c914",
   "metadata": {},
   "outputs": [
    {
     "data": {
      "text/plain": [
       "Customer_ID       int64\n",
       "CategoryGroup    object\n",
       "Category         object\n",
       "InvoiceDate      object\n",
       "Quantity         object\n",
       "TotalPrice       object\n",
       "dtype: object"
      ]
     },
     "execution_count": 6,
     "metadata": {},
     "output_type": "execute_result"
    }
   ],
   "source": [
    "df.dtypes"
   ]
  },
  {
   "cell_type": "code",
   "execution_count": 9,
   "id": "d652838c",
   "metadata": {},
   "outputs": [
    {
     "data": {
      "text/plain": [
       "Index(['Customer_ID', 'CategoryGroup', 'Category', 'InvoiceDate', 'Quantity',\n",
       "       'TotalPrice'],\n",
       "      dtype='object')"
      ]
     },
     "execution_count": 9,
     "metadata": {},
     "output_type": "execute_result"
    }
   ],
   "source": [
    "df.columns"
   ]
  },
  {
   "cell_type": "code",
   "execution_count": null,
   "id": "45a5b1ab",
   "metadata": {},
   "outputs": [],
   "source": []
  },
  {
   "cell_type": "markdown",
   "id": "12ba9600",
   "metadata": {},
   "source": [
    "##  2. Transform Datatype\n",
    "- change InvoiceDate from String to date format\n",
    "- change Total Price and Quantity from String to Integer"
   ]
  },
  {
   "cell_type": "code",
   "execution_count": 8,
   "id": "adffe7be",
   "metadata": {},
   "outputs": [],
   "source": [
    "df['InvoiceDate'] = df['InvoiceDate'].apply(pd.to_datetime)"
   ]
  },
  {
   "cell_type": "code",
   "execution_count": 10,
   "id": "970c9d62",
   "metadata": {},
   "outputs": [],
   "source": [
    "# df.Quantity.astype(int)\n",
    "df['TotalPrice'] = df.TotalPrice.apply(lambda x:x.replace(\"£\",\"\")).apply(lambda x:x.replace(\",\", \"\"))"
   ]
  },
  {
   "cell_type": "code",
   "execution_count": 11,
   "id": "daac919b",
   "metadata": {},
   "outputs": [],
   "source": [
    "df['TotalPrice'] = df['TotalPrice'].apply(pd.to_numeric)"
   ]
  },
  {
   "cell_type": "code",
   "execution_count": 12,
   "id": "e40193ca",
   "metadata": {},
   "outputs": [
    {
     "data": {
      "text/plain": [
       "Customer_ID               int64\n",
       "CategoryGroup            object\n",
       "Category                 object\n",
       "InvoiceDate      datetime64[ns]\n",
       "Quantity                 object\n",
       "TotalPrice                int64\n",
       "dtype: object"
      ]
     },
     "execution_count": 12,
     "metadata": {},
     "output_type": "execute_result"
    }
   ],
   "source": [
    "df.dtypes"
   ]
  },
  {
   "cell_type": "code",
   "execution_count": null,
   "id": "ab3db5fd",
   "metadata": {},
   "outputs": [],
   "source": []
  },
  {
   "cell_type": "code",
   "execution_count": 13,
   "id": "47635937",
   "metadata": {},
   "outputs": [],
   "source": [
    "new_df = df.replace(\"1,008\", \"1008\")"
   ]
  },
  {
   "cell_type": "code",
   "execution_count": 14,
   "id": "9e1fa6d2",
   "metadata": {},
   "outputs": [],
   "source": [
    "new_df = new_df.replace(\"1,200\", \"1200\")"
   ]
  },
  {
   "cell_type": "code",
   "execution_count": 15,
   "id": "6a1aabf2",
   "metadata": {},
   "outputs": [],
   "source": [
    "new_df = new_df.replace(\"1,000\", \"1000\")"
   ]
  },
  {
   "cell_type": "code",
   "execution_count": 16,
   "id": "fa41001a",
   "metadata": {},
   "outputs": [],
   "source": [
    "new_df = new_df.replace(\"1,500\", \"1500\")"
   ]
  },
  {
   "cell_type": "code",
   "execution_count": 17,
   "id": "39e37f83",
   "metadata": {},
   "outputs": [],
   "source": [
    "new_df['Quantity'] = new_df['Quantity'].apply(pd.to_numeric)"
   ]
  },
  {
   "cell_type": "code",
   "execution_count": 18,
   "id": "2e0b137e",
   "metadata": {},
   "outputs": [
    {
     "data": {
      "text/plain": [
       "Customer_ID               int64\n",
       "CategoryGroup            object\n",
       "Category                 object\n",
       "InvoiceDate      datetime64[ns]\n",
       "Quantity                  int64\n",
       "TotalPrice                int64\n",
       "dtype: object"
      ]
     },
     "execution_count": 18,
     "metadata": {},
     "output_type": "execute_result"
    }
   ],
   "source": [
    "new_df.dtypes"
   ]
  },
  {
   "cell_type": "code",
   "execution_count": 19,
   "id": "12657adc",
   "metadata": {},
   "outputs": [],
   "source": [
    "new_df[\"Total Sales\"] = new_df[\"Quantity\"]*df['TotalPrice']"
   ]
  },
  {
   "cell_type": "code",
   "execution_count": 20,
   "id": "f81ef00d",
   "metadata": {},
   "outputs": [
    {
     "data": {
      "text/html": [
       "<div>\n",
       "<style scoped>\n",
       "    .dataframe tbody tr th:only-of-type {\n",
       "        vertical-align: middle;\n",
       "    }\n",
       "\n",
       "    .dataframe tbody tr th {\n",
       "        vertical-align: top;\n",
       "    }\n",
       "\n",
       "    .dataframe thead th {\n",
       "        text-align: right;\n",
       "    }\n",
       "</style>\n",
       "<table border=\"1\" class=\"dataframe\">\n",
       "  <thead>\n",
       "    <tr style=\"text-align: right;\">\n",
       "      <th></th>\n",
       "      <th>Customer_ID</th>\n",
       "      <th>CategoryGroup</th>\n",
       "      <th>Category</th>\n",
       "      <th>InvoiceDate</th>\n",
       "      <th>Quantity</th>\n",
       "      <th>TotalPrice</th>\n",
       "      <th>Total Sales</th>\n",
       "    </tr>\n",
       "  </thead>\n",
       "  <tbody>\n",
       "    <tr>\n",
       "      <th>0</th>\n",
       "      <td>15550</td>\n",
       "      <td>Games &amp; Toys</td>\n",
       "      <td>Games &amp; Toys</td>\n",
       "      <td>2020-01-01</td>\n",
       "      <td>1</td>\n",
       "      <td>8</td>\n",
       "      <td>8</td>\n",
       "    </tr>\n",
       "    <tr>\n",
       "      <th>1</th>\n",
       "      <td>15550</td>\n",
       "      <td>Bags &amp; Purses</td>\n",
       "      <td>Jumbo Bag</td>\n",
       "      <td>2020-01-01</td>\n",
       "      <td>1</td>\n",
       "      <td>2</td>\n",
       "      <td>2</td>\n",
       "    </tr>\n",
       "    <tr>\n",
       "      <th>2</th>\n",
       "      <td>15550</td>\n",
       "      <td>Decorations</td>\n",
       "      <td>Doilies</td>\n",
       "      <td>2020-01-01</td>\n",
       "      <td>1</td>\n",
       "      <td>1</td>\n",
       "      <td>1</td>\n",
       "    </tr>\n",
       "    <tr>\n",
       "      <th>3</th>\n",
       "      <td>15550</td>\n",
       "      <td>Bags &amp; Purses</td>\n",
       "      <td>Purse</td>\n",
       "      <td>2020-01-01</td>\n",
       "      <td>2</td>\n",
       "      <td>3</td>\n",
       "      <td>6</td>\n",
       "    </tr>\n",
       "    <tr>\n",
       "      <th>4</th>\n",
       "      <td>15550</td>\n",
       "      <td>Bags &amp; Purses</td>\n",
       "      <td>Purse</td>\n",
       "      <td>2020-01-01</td>\n",
       "      <td>2</td>\n",
       "      <td>3</td>\n",
       "      <td>6</td>\n",
       "    </tr>\n",
       "  </tbody>\n",
       "</table>\n",
       "</div>"
      ],
      "text/plain": [
       "   Customer_ID  CategoryGroup      Category InvoiceDate  Quantity  TotalPrice  \\\n",
       "0        15550   Games & Toys  Games & Toys  2020-01-01         1           8   \n",
       "1        15550  Bags & Purses     Jumbo Bag  2020-01-01         1           2   \n",
       "2        15550    Decorations       Doilies  2020-01-01         1           1   \n",
       "3        15550  Bags & Purses         Purse  2020-01-01         2           3   \n",
       "4        15550  Bags & Purses         Purse  2020-01-01         2           3   \n",
       "\n",
       "   Total Sales  \n",
       "0            8  \n",
       "1            2  \n",
       "2            1  \n",
       "3            6  \n",
       "4            6  "
      ]
     },
     "execution_count": 20,
     "metadata": {},
     "output_type": "execute_result"
    }
   ],
   "source": [
    "new_df.head()"
   ]
  },
  {
   "cell_type": "code",
   "execution_count": 21,
   "id": "bce3956e",
   "metadata": {},
   "outputs": [],
   "source": [
    "new_df.to_csv(\"Retail Customer Analytics Cleaned data.csv\")"
   ]
  },
  {
   "cell_type": "code",
   "execution_count": null,
   "id": "05c783f9",
   "metadata": {},
   "outputs": [],
   "source": []
  },
  {
   "cell_type": "markdown",
   "id": "b39b6bdd",
   "metadata": {},
   "source": [
    "## 3. Group customers data into: monetary, frequecy and recency"
   ]
  },
  {
   "cell_type": "code",
   "execution_count": 24,
   "id": "1264313e",
   "metadata": {},
   "outputs": [],
   "source": [
    "df1 = pd.DataFrame(new_df.groupby(\"Customer_ID\", as_index=False)[\"InvoiceDate\"].max()).rename(\n",
    "    columns={\"InvoiceDate\":\"Recency\"})"
   ]
  },
  {
   "cell_type": "code",
   "execution_count": 25,
   "id": "06d8fae5",
   "metadata": {},
   "outputs": [],
   "source": [
    "from datetime import date"
   ]
  },
  {
   "cell_type": "code",
   "execution_count": 26,
   "id": "b9a3e63c",
   "metadata": {},
   "outputs": [
    {
     "data": {
      "text/plain": [
       "datetime.date(2022, 9, 29)"
      ]
     },
     "execution_count": 26,
     "metadata": {},
     "output_type": "execute_result"
    }
   ],
   "source": [
    "date.today()"
   ]
  },
  {
   "cell_type": "code",
   "execution_count": 27,
   "id": "93e4c736",
   "metadata": {},
   "outputs": [
    {
     "data": {
      "text/plain": [
       "datetime.date(2021, 10, 19)"
      ]
     },
     "execution_count": 27,
     "metadata": {},
     "output_type": "execute_result"
    }
   ],
   "source": [
    "df1['Recency'][1].date()"
   ]
  },
  {
   "cell_type": "code",
   "execution_count": 28,
   "id": "5e2fc729",
   "metadata": {},
   "outputs": [
    {
     "data": {
      "text/plain": [
       "datetime.timedelta(days=345)"
      ]
     },
     "execution_count": 28,
     "metadata": {},
     "output_type": "execute_result"
    }
   ],
   "source": [
    "date.today()-df1['Recency'][1].date()"
   ]
  },
  {
   "cell_type": "code",
   "execution_count": 29,
   "id": "a4f6062c",
   "metadata": {},
   "outputs": [],
   "source": [
    "df1[\"Recency\"] = df1['Recency'].apply(lambda x:(date.today()-x.date())).dt.days"
   ]
  },
  {
   "cell_type": "code",
   "execution_count": null,
   "id": "86e35d62",
   "metadata": {},
   "outputs": [],
   "source": []
  },
  {
   "cell_type": "code",
   "execution_count": 31,
   "id": "c9e46663",
   "metadata": {},
   "outputs": [],
   "source": [
    "df2 = pd.DataFrame(new_df.groupby(\"Customer_ID\",as_index=False)[\"Total Sales\"].sum()).rename(\n",
    "    columns={\"Total Sales\":\"Monetary\"})"
   ]
  },
  {
   "cell_type": "code",
   "execution_count": 32,
   "id": "828f6787",
   "metadata": {},
   "outputs": [],
   "source": [
    "df3 = pd.DataFrame(new_df.groupby(\"Customer_ID\", as_index=False)['Total Sales'].count()).rename(\n",
    "    columns={\"Total Sales\":\"Frequency\"})"
   ]
  },
  {
   "cell_type": "code",
   "execution_count": 33,
   "id": "48af4752",
   "metadata": {},
   "outputs": [],
   "source": [
    "df_rfm = pd.merge(pd.merge(df1, df2), df3)"
   ]
  },
  {
   "cell_type": "code",
   "execution_count": 34,
   "id": "21597a0e",
   "metadata": {},
   "outputs": [
    {
     "data": {
      "text/plain": [
       "Customer_ID    int64\n",
       "Recency        int64\n",
       "Monetary       int64\n",
       "Frequency      int64\n",
       "dtype: object"
      ]
     },
     "execution_count": 34,
     "metadata": {},
     "output_type": "execute_result"
    }
   ],
   "source": [
    "df_rfm.dtypes"
   ]
  },
  {
   "cell_type": "code",
   "execution_count": 36,
   "id": "9ee44fff",
   "metadata": {},
   "outputs": [
    {
     "data": {
      "text/html": [
       "<div>\n",
       "<style scoped>\n",
       "    .dataframe tbody tr th:only-of-type {\n",
       "        vertical-align: middle;\n",
       "    }\n",
       "\n",
       "    .dataframe tbody tr th {\n",
       "        vertical-align: top;\n",
       "    }\n",
       "\n",
       "    .dataframe thead th {\n",
       "        text-align: right;\n",
       "    }\n",
       "</style>\n",
       "<table border=\"1\" class=\"dataframe\">\n",
       "  <thead>\n",
       "    <tr style=\"text-align: right;\">\n",
       "      <th></th>\n",
       "      <th>Customer_ID</th>\n",
       "      <th>Recency</th>\n",
       "      <th>Monetary</th>\n",
       "      <th>Frequency</th>\n",
       "    </tr>\n",
       "  </thead>\n",
       "  <tbody>\n",
       "    <tr>\n",
       "      <th>0</th>\n",
       "      <td>12348</td>\n",
       "      <td>402</td>\n",
       "      <td>143581</td>\n",
       "      <td>51</td>\n",
       "    </tr>\n",
       "    <tr>\n",
       "      <th>1</th>\n",
       "      <td>12349</td>\n",
       "      <td>345</td>\n",
       "      <td>36694</td>\n",
       "      <td>175</td>\n",
       "    </tr>\n",
       "    <tr>\n",
       "      <th>2</th>\n",
       "      <td>12350</td>\n",
       "      <td>637</td>\n",
       "      <td>3682</td>\n",
       "      <td>17</td>\n",
       "    </tr>\n",
       "  </tbody>\n",
       "</table>\n",
       "</div>"
      ],
      "text/plain": [
       "   Customer_ID  Recency  Monetary  Frequency\n",
       "0        12348      402    143581         51\n",
       "1        12349      345     36694        175\n",
       "2        12350      637      3682         17"
      ]
     },
     "execution_count": 36,
     "metadata": {},
     "output_type": "execute_result"
    }
   ],
   "source": [
    "df_rfm.head(3)"
   ]
  },
  {
   "cell_type": "code",
   "execution_count": null,
   "id": "a10394a8",
   "metadata": {},
   "outputs": [],
   "source": []
  },
  {
   "cell_type": "markdown",
   "id": "aa0163e8",
   "metadata": {},
   "source": [
    "## 4. Exploratory Data Analysis with Seaborn"
   ]
  },
  {
   "cell_type": "code",
   "execution_count": 37,
   "id": "c9b9164e",
   "metadata": {},
   "outputs": [
    {
     "data": {
      "text/plain": [
       "<seaborn.axisgrid.PairGrid at 0x7fde72d4ed00>"
      ]
     },
     "execution_count": 37,
     "metadata": {},
     "output_type": "execute_result"
    },
    {
     "data": {
      "image/png": "[encoded data removed]",
      "text/plain": [
       "<Figure size 540x540 with 12 Axes>"
      ]
     },
     "metadata": {
      "needs_background": "light"
     },
     "output_type": "display_data"
    }
   ],
   "source": [
    "sns.pairplot(df_rfm.drop(\"Customer_ID\", axis=1))"
   ]
  },
  {
   "cell_type": "code",
   "execution_count": 38,
   "id": "ca5a09a3",
   "metadata": {},
   "outputs": [
    {
     "data": {
      "text/plain": [
       "<seaborn.axisgrid.JointGrid at 0x7fde6f17a2b0>"
      ]
     },
     "execution_count": 38,
     "metadata": {},
     "output_type": "execute_result"
    },
    {
     "data": {
      "image/png": "[encoded data removed]",
      "text/plain": [
       "<Figure size 432x432 with 3 Axes>"
      ]
     },
     "metadata": {
      "needs_background": "light"
     },
     "output_type": "display_data"
    }
   ],
   "source": [
    "sns.jointplot(data=df_rfm, x=\"Frequency\", y=\"Monetary\")"
   ]
  },
  {
   "cell_type": "code",
   "execution_count": 39,
   "id": "1694ae84",
   "metadata": {},
   "outputs": [
    {
     "data": {
      "text/plain": [
       "<seaborn.axisgrid.JointGrid at 0x7fde72c2ffa0>"
      ]
     },
     "execution_count": 39,
     "metadata": {},
     "output_type": "execute_result"
    },
    {
     "data": {
      "image/png": "[encoded data removed]",
      "text/plain": [
       "<Figure size 432x432 with 3 Axes>"
      ]
     },
     "metadata": {
      "needs_background": "light"
     },
     "output_type": "display_data"
    }
   ],
   "source": [
    "sns.jointplot(data=df_rfm, x=\"Recency\", y=\"Monetary\")"
   ]
  },
  {
   "cell_type": "code",
   "execution_count": 43,
   "id": "f22358ce",
   "metadata": {},
   "outputs": [
    {
     "data": {
      "text/html": [
       "<div>\n",
       "<style scoped>\n",
       "    .dataframe tbody tr th:only-of-type {\n",
       "        vertical-align: middle;\n",
       "    }\n",
       "\n",
       "    .dataframe tbody tr th {\n",
       "        vertical-align: top;\n",
       "    }\n",
       "\n",
       "    .dataframe thead th {\n",
       "        text-align: right;\n",
       "    }\n",
       "</style>\n",
       "<table border=\"1\" class=\"dataframe\">\n",
       "  <thead>\n",
       "    <tr style=\"text-align: right;\">\n",
       "      <th></th>\n",
       "      <th>Customer_ID</th>\n",
       "      <th>Recency</th>\n",
       "      <th>Monetary</th>\n",
       "      <th>Frequency</th>\n",
       "    </tr>\n",
       "  </thead>\n",
       "  <tbody>\n",
       "    <tr>\n",
       "      <th>0</th>\n",
       "      <td>12348</td>\n",
       "      <td>402</td>\n",
       "      <td>143581</td>\n",
       "      <td>51</td>\n",
       "    </tr>\n",
       "    <tr>\n",
       "      <th>1</th>\n",
       "      <td>12349</td>\n",
       "      <td>345</td>\n",
       "      <td>36694</td>\n",
       "      <td>175</td>\n",
       "    </tr>\n",
       "  </tbody>\n",
       "</table>\n",
       "</div>"
      ],
      "text/plain": [
       "   Customer_ID  Recency  Monetary  Frequency\n",
       "0        12348      402    143581         51\n",
       "1        12349      345     36694        175"
      ]
     },
     "execution_count": 43,
     "metadata": {},
     "output_type": "execute_result"
    }
   ],
   "source": [
    "df_rfm.head(2)"
   ]
  },
  {
   "cell_type": "markdown",
   "id": "1c41a8fb",
   "metadata": {},
   "source": [
    "## 5. K-Mean Clustering"
   ]
  },
  {
   "cell_type": "code",
   "execution_count": 44,
   "id": "3d3b2588",
   "metadata": {},
   "outputs": [
    {
     "data": {
      "text/plain": [
       "array([[-0.65851743,  1.39146469, -0.2823613 ],\n",
       "       [-0.94767199,  0.14443408,  0.96722291],\n",
       "       [ 0.53361101, -0.24071075, -0.62498922],\n",
       "       ...,\n",
       "       [ 2.30912146, -0.08211209, -0.67537568],\n",
       "       [ 1.37571025, -0.18740508, -0.29243859],\n",
       "       [-0.82592271,  1.06027888,  0.76567707]])"
      ]
     },
     "execution_count": 44,
     "metadata": {},
     "output_type": "execute_result"
    }
   ],
   "source": [
    "# scaling data \n",
    "from sklearn.preprocessing import StandardScaler\n",
    "s = StandardScaler()\n",
    "s_train = s.fit_transform(df_rfm.drop(\"Customer_ID\", axis=1))\n",
    "s_train"
   ]
  },
  {
   "cell_type": "code",
   "execution_count": 46,
   "id": "c8e69089",
   "metadata": {},
   "outputs": [],
   "source": [
    "from sklearn.cluster import KMeans"
   ]
  },
  {
   "cell_type": "code",
   "execution_count": 52,
   "id": "e4faa91e",
   "metadata": {},
   "outputs": [],
   "source": [
    "n_range = range(1,10)\n",
    "sse=[]"
   ]
  },
  {
   "cell_type": "code",
   "execution_count": 55,
   "id": "705a8ccc",
   "metadata": {},
   "outputs": [],
   "source": [
    "for n in n_range:\n",
    "    kmeans = KMeans(n_clusters=n)\n",
    "    kmeans.fit(s_train)\n",
    "    sse.append(kmeans.inertia_)"
   ]
  },
  {
   "cell_type": "code",
   "execution_count": 56,
   "id": "7828a033",
   "metadata": {},
   "outputs": [
    {
     "data": {
      "text/plain": [
       "[15029.999999999985,\n",
       " 10411.424335532472,\n",
       " 7737.9710317711315,\n",
       " 5082.7111492105705,\n",
       " 4090.65759576157,\n",
       " 3265.354291055914,\n",
       " 2698.754703823511,\n",
       " 2256.9270101148554,\n",
       " 1976.9851343769571]"
      ]
     },
     "execution_count": 56,
     "metadata": {},
     "output_type": "execute_result"
    }
   ],
   "source": [
    "sse"
   ]
  },
  {
   "cell_type": "code",
   "execution_count": 69,
   "id": "fcbb1f1f",
   "metadata": {},
   "outputs": [
    {
     "data": {
      "text/plain": [
       "Text(0.5, 1.0, 'Elbow Method')"
      ]
     },
     "execution_count": 69,
     "metadata": {},
     "output_type": "execute_result"
    },
    {
     "data": {
      "image/png": "[encoded data removed]",
      "text/plain": [
       "<Figure size 432x288 with 1 Axes>"
      ]
     },
     "metadata": {
      "needs_background": "light"
     },
     "output_type": "display_data"
    }
   ],
   "source": [
    "plt.plot(n_range, sse)\n",
    "plt.title(\"Elbow Method\")"
   ]
  },
  {
   "cell_type": "code",
   "execution_count": 59,
   "id": "dec60cbf",
   "metadata": {},
   "outputs": [],
   "source": [
    "km = KMeans(n_clusters=4)"
   ]
  },
  {
   "cell_type": "code",
   "execution_count": 61,
   "id": "8cf804c8",
   "metadata": {},
   "outputs": [],
   "source": [
    "cluster = km.fit_predict(s_train)"
   ]
  },
  {
   "cell_type": "code",
   "execution_count": 64,
   "id": "8893ec87",
   "metadata": {},
   "outputs": [],
   "source": [
    "df_rfm['Cluster'] = cluster"
   ]
  },
  {
   "cell_type": "code",
   "execution_count": 65,
   "id": "cf7cd7c0",
   "metadata": {},
   "outputs": [
    {
     "data": {
      "text/html": [
       "<div>\n",
       "<style scoped>\n",
       "    .dataframe tbody tr th:only-of-type {\n",
       "        vertical-align: middle;\n",
       "    }\n",
       "\n",
       "    .dataframe tbody tr th {\n",
       "        vertical-align: top;\n",
       "    }\n",
       "\n",
       "    .dataframe thead th {\n",
       "        text-align: right;\n",
       "    }\n",
       "</style>\n",
       "<table border=\"1\" class=\"dataframe\">\n",
       "  <thead>\n",
       "    <tr style=\"text-align: right;\">\n",
       "      <th></th>\n",
       "      <th>Customer_ID</th>\n",
       "      <th>Recency</th>\n",
       "      <th>Monetary</th>\n",
       "      <th>Frequency</th>\n",
       "      <th>Cluster</th>\n",
       "    </tr>\n",
       "  </thead>\n",
       "  <tbody>\n",
       "    <tr>\n",
       "      <th>0</th>\n",
       "      <td>12348</td>\n",
       "      <td>402</td>\n",
       "      <td>143581</td>\n",
       "      <td>51</td>\n",
       "      <td>0</td>\n",
       "    </tr>\n",
       "    <tr>\n",
       "      <th>1</th>\n",
       "      <td>12349</td>\n",
       "      <td>345</td>\n",
       "      <td>36694</td>\n",
       "      <td>175</td>\n",
       "      <td>0</td>\n",
       "    </tr>\n",
       "    <tr>\n",
       "      <th>2</th>\n",
       "      <td>12350</td>\n",
       "      <td>637</td>\n",
       "      <td>3682</td>\n",
       "      <td>17</td>\n",
       "      <td>2</td>\n",
       "    </tr>\n",
       "    <tr>\n",
       "      <th>3</th>\n",
       "      <td>12351</td>\n",
       "      <td>702</td>\n",
       "      <td>3497</td>\n",
       "      <td>21</td>\n",
       "      <td>2</td>\n",
       "    </tr>\n",
       "    <tr>\n",
       "      <th>4</th>\n",
       "      <td>12352</td>\n",
       "      <td>363</td>\n",
       "      <td>13766</td>\n",
       "      <td>100</td>\n",
       "      <td>0</td>\n",
       "    </tr>\n",
       "    <tr>\n",
       "      <th>...</th>\n",
       "      <td>...</td>\n",
       "      <td>...</td>\n",
       "      <td>...</td>\n",
       "      <td>...</td>\n",
       "      <td>...</td>\n",
       "    </tr>\n",
       "    <tr>\n",
       "      <th>5005</th>\n",
       "      <td>18283</td>\n",
       "      <td>330</td>\n",
       "      <td>7296</td>\n",
       "      <td>984</td>\n",
       "      <td>1</td>\n",
       "    </tr>\n",
       "    <tr>\n",
       "      <th>5006</th>\n",
       "      <td>18284</td>\n",
       "      <td>758</td>\n",
       "      <td>8511</td>\n",
       "      <td>28</td>\n",
       "      <td>2</td>\n",
       "    </tr>\n",
       "    <tr>\n",
       "      <th>5007</th>\n",
       "      <td>18285</td>\n",
       "      <td>987</td>\n",
       "      <td>17276</td>\n",
       "      <td>12</td>\n",
       "      <td>2</td>\n",
       "    </tr>\n",
       "    <tr>\n",
       "      <th>5008</th>\n",
       "      <td>18286</td>\n",
       "      <td>803</td>\n",
       "      <td>8251</td>\n",
       "      <td>50</td>\n",
       "      <td>2</td>\n",
       "    </tr>\n",
       "    <tr>\n",
       "      <th>5009</th>\n",
       "      <td>18287</td>\n",
       "      <td>369</td>\n",
       "      <td>115194</td>\n",
       "      <td>155</td>\n",
       "      <td>0</td>\n",
       "    </tr>\n",
       "  </tbody>\n",
       "</table>\n",
       "<p>5010 rows × 5 columns</p>\n",
       "</div>"
      ],
      "text/plain": [
       "      Customer_ID  Recency  Monetary  Frequency  Cluster\n",
       "0           12348      402    143581         51        0\n",
       "1           12349      345     36694        175        0\n",
       "2           12350      637      3682         17        2\n",
       "3           12351      702      3497         21        2\n",
       "4           12352      363     13766        100        0\n",
       "...           ...      ...       ...        ...      ...\n",
       "5005        18283      330      7296        984        1\n",
       "5006        18284      758      8511         28        2\n",
       "5007        18285      987     17276         12        2\n",
       "5008        18286      803      8251         50        2\n",
       "5009        18287      369    115194        155        0\n",
       "\n",
       "[5010 rows x 5 columns]"
      ]
     },
     "execution_count": 65,
     "metadata": {},
     "output_type": "execute_result"
    }
   ],
   "source": [
    "df_rfm"
   ]
  },
  {
   "cell_type": "code",
   "execution_count": 70,
   "id": "b499c8b6",
   "metadata": {},
   "outputs": [
    {
     "data": {
      "text/plain": [
       "Text(0, 0.5, 'Monetary')"
      ]
     },
     "execution_count": 70,
     "metadata": {},
     "output_type": "execute_result"
    },
    {
     "data": {
      "image/png": "[encoded data removed]",
      "text/plain": [
       "<Figure size 432x288 with 1 Axes>"
      ]
     },
     "metadata": {
      "needs_background": "light"
     },
     "output_type": "display_data"
    }
   ],
   "source": [
    "fig = plt.figure()\n",
    "axes = fig.add_axes([0.1, 0.1, 1, 1])\n",
    "\n",
    "axes.set_title('K Means Clustering')\n",
    "axes.scatter(df_rfm['Frequency'],df_rfm['Monetary'],c=df_rfm['Cluster'],cmap='rainbow')\n",
    "\n",
    "axes.set_xlabel('Frequency') \n",
    "axes.set_ylabel('Monetary')\n"
   ]
  },
  {
   "cell_type": "code",
   "execution_count": 68,
   "id": "63a483e9",
   "metadata": {},
   "outputs": [
    {
     "data": {
      "text/plain": [
       "Text(0, 0.5, 'Monetary')"
      ]
     },
     "execution_count": 68,
     "metadata": {},
     "output_type": "execute_result"
    },
    {
     "data": {
      "image/png": "[encoded data removed]",
      "text/plain": [
       "<Figure size 432x288 with 1 Axes>"
      ]
     },
     "metadata": {
      "needs_background": "light"
     },
     "output_type": "display_data"
    }
   ],
   "source": [
    "fig = plt.figure()\n",
    "axes = fig.add_axes([0.1, 0.1, 1, 1])\n",
    "\n",
    "axes.set_title('K Means Clustering')\n",
    "axes.scatter(df_rfm['Recency'],df_rfm['Monetary'],c=df_rfm['Cluster'],cmap='rainbow')\n",
    "\n",
    "axes.set_xlabel('Recency') \n",
    "axes.set_ylabel('Monetary')"
   ]
  },
  {
   "cell_type": "markdown",
   "id": "b89e62b2",
   "metadata": {},
   "source": [
    "### 7. Exploring original datasets - not now"
   ]
  },
  {
   "cell_type": "code",
   "execution_count": null,
   "id": "29499d35",
   "metadata": {},
   "outputs": [],
   "source": []
  },
  {
   "cell_type": "code",
   "execution_count": null,
   "id": "cd58320a",
   "metadata": {},
   "outputs": [],
   "source": []
  },
  {
   "cell_type": "code",
   "execution_count": null,
   "id": "360d9815",
   "metadata": {},
   "outputs": [],
   "source": []
  },
  {
   "cell_type": "code",
   "execution_count": null,
   "id": "d19dca26",
   "metadata": {},
   "outputs": [],
   "source": []
  }
 ],
 "metadata": {
  "kernelspec": {
   "display_name": "Python 3",
   "language": "python",
   "name": "python3"
  },
  "language_info": {
   "codemirror_mode": {
    "name": "ipython",
    "version": 3
   },
   "file_extension": ".py",
   "mimetype": "text/x-python",
   "name": "python",
   "nbconvert_exporter": "python",
   "pygments_lexer": "ipython3",
   "version": "3.8.8"
  }
 },
 "nbformat": 4,
 "nbformat_minor": 5
}
