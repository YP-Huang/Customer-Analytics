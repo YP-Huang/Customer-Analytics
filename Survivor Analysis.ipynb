{
 "cells": [
  {
   "cell_type": "code",
   "execution_count": 1,
   "id": "b7ef1cdd",
   "metadata": {},
   "outputs": [],
   "source": [
    "import pandas as pd\n",
    "import numpy as np"
   ]
  },
  {
   "cell_type": "code",
   "execution_count": 9,
   "id": "eec29270",
   "metadata": {},
   "outputs": [],
   "source": [
    "df = pd.read_excel(\"Company X (SMU Data Jan21-Jun22).xlsx\", \n",
    "                   sheet_name=\"Survivorship-clean\")"
   ]
  },
  {
   "cell_type": "code",
   "execution_count": 10,
   "id": "e186bf58",
   "metadata": {},
   "outputs": [
    {
     "data": {
      "text/html": [
       "<div>\n",
       "<style scoped>\n",
       "    .dataframe tbody tr th:only-of-type {\n",
       "        vertical-align: middle;\n",
       "    }\n",
       "\n",
       "    .dataframe tbody tr th {\n",
       "        vertical-align: top;\n",
       "    }\n",
       "\n",
       "    .dataframe thead th {\n",
       "        text-align: right;\n",
       "    }\n",
       "</style>\n",
       "<table border=\"1\" class=\"dataframe\">\n",
       "  <thead>\n",
       "    <tr style=\"text-align: right;\">\n",
       "      <th></th>\n",
       "      <th>S/N</th>\n",
       "      <th>Row Labels</th>\n",
       "      <th>Channel</th>\n",
       "      <th>Min. of New Date</th>\n",
       "      <th>Max. of New Date</th>\n",
       "      <th>Status</th>\n",
       "      <th>Last purchase till now</th>\n",
       "      <th>Survivor Time</th>\n",
       "      <th>Real Status</th>\n",
       "      <th>Event</th>\n",
       "    </tr>\n",
       "  </thead>\n",
       "  <tbody>\n",
       "    <tr>\n",
       "      <th>0</th>\n",
       "      <td>1</td>\n",
       "      <td>ALF24</td>\n",
       "      <td>SG KEY ACCOUNT</td>\n",
       "      <td>2021-01-01</td>\n",
       "      <td>2022-06-01</td>\n",
       "      <td>Customer</td>\n",
       "      <td>0</td>\n",
       "      <td>18</td>\n",
       "      <td>active</td>\n",
       "      <td>0</td>\n",
       "    </tr>\n",
       "    <tr>\n",
       "      <th>1</th>\n",
       "      <td>2</td>\n",
       "      <td>ALF25</td>\n",
       "      <td>SG DISTRIBUTOR</td>\n",
       "      <td>2021-01-01</td>\n",
       "      <td>2022-06-01</td>\n",
       "      <td>Customer</td>\n",
       "      <td>0</td>\n",
       "      <td>18</td>\n",
       "      <td>active</td>\n",
       "      <td>0</td>\n",
       "    </tr>\n",
       "    <tr>\n",
       "      <th>2</th>\n",
       "      <td>3</td>\n",
       "      <td>ALF37</td>\n",
       "      <td>SG KEY ACCOUNT</td>\n",
       "      <td>2021-01-01</td>\n",
       "      <td>2022-06-01</td>\n",
       "      <td>Customer</td>\n",
       "      <td>0</td>\n",
       "      <td>18</td>\n",
       "      <td>active</td>\n",
       "      <td>0</td>\n",
       "    </tr>\n",
       "    <tr>\n",
       "      <th>3</th>\n",
       "      <td>4</td>\n",
       "      <td>ALF44</td>\n",
       "      <td>SG ONLINE</td>\n",
       "      <td>2021-01-01</td>\n",
       "      <td>2022-06-01</td>\n",
       "      <td>Customer</td>\n",
       "      <td>0</td>\n",
       "      <td>18</td>\n",
       "      <td>active</td>\n",
       "      <td>0</td>\n",
       "    </tr>\n",
       "    <tr>\n",
       "      <th>4</th>\n",
       "      <td>5</td>\n",
       "      <td>ALF8</td>\n",
       "      <td>SG KEY ACCOUNT</td>\n",
       "      <td>2021-01-01</td>\n",
       "      <td>2022-06-01</td>\n",
       "      <td>Customer</td>\n",
       "      <td>0</td>\n",
       "      <td>18</td>\n",
       "      <td>active</td>\n",
       "      <td>0</td>\n",
       "    </tr>\n",
       "  </tbody>\n",
       "</table>\n",
       "</div>"
      ],
      "text/plain": [
       "   S/N Row Labels         Channel Min. of New Date Max. of New Date    Status  \\\n",
       "0    1      ALF24  SG KEY ACCOUNT       2021-01-01       2022-06-01  Customer   \n",
       "1    2      ALF25  SG DISTRIBUTOR       2021-01-01       2022-06-01  Customer   \n",
       "2    3      ALF37  SG KEY ACCOUNT       2021-01-01       2022-06-01  Customer   \n",
       "3    4      ALF44       SG ONLINE       2021-01-01       2022-06-01  Customer   \n",
       "4    5       ALF8  SG KEY ACCOUNT       2021-01-01       2022-06-01  Customer   \n",
       "\n",
       "   Last purchase till now  Survivor Time Real Status  Event  \n",
       "0                       0             18      active      0  \n",
       "1                       0             18      active      0  \n",
       "2                       0             18      active      0  \n",
       "3                       0             18      active      0  \n",
       "4                       0             18      active      0  "
      ]
     },
     "execution_count": 10,
     "metadata": {},
     "output_type": "execute_result"
    }
   ],
   "source": [
    "df.head()"
   ]
  },
  {
   "cell_type": "code",
   "execution_count": 11,
   "id": "53bdc3a0",
   "metadata": {},
   "outputs": [],
   "source": [
    "from lifelines import KaplanMeierFitter"
   ]
  },
  {
   "cell_type": "code",
   "execution_count": 15,
   "id": "62459b17",
   "metadata": {},
   "outputs": [],
   "source": [
    "kmf = KaplanMeierFitter(label=\"Customer Churn\")"
   ]
  },
  {
   "cell_type": "code",
   "execution_count": 16,
   "id": "fb4a0c75",
   "metadata": {},
   "outputs": [
    {
     "data": {
      "text/plain": [
       "<lifelines.KaplanMeierFitter:\"Customer Churn\", fitted with 34 total observations, 11 right-censored observations>"
      ]
     },
     "execution_count": 16,
     "metadata": {},
     "output_type": "execute_result"
    }
   ],
   "source": [
    "kmf.fit(df['Survivor Time'], df['Event'])"
   ]
  },
  {
   "cell_type": "code",
   "execution_count": 17,
   "id": "f50109c7",
   "metadata": {},
   "outputs": [
    {
     "data": {
      "text/plain": [
       "<AxesSubplot:xlabel='timeline'>"
      ]
     },
     "execution_count": 17,
     "metadata": {},
     "output_type": "execute_result"
    },
    {
     "data": {
      "image/png": "[encoded data removed]",
      "text/plain": [
       "<Figure size 432x288 with 1 Axes>"
      ]
     },
     "metadata": {
      "needs_background": "light"
     },
     "output_type": "display_data"
    }
   ],
   "source": [
    "kmf.plot()"
   ]
  },
  {
   "cell_type": "code",
   "execution_count": null,
   "id": "8c1b57d5",
   "metadata": {},
   "outputs": [],
   "source": []
  },
  {
   "cell_type": "code",
   "execution_count": 6,
   "id": "e37c7471",
   "metadata": {},
   "outputs": [
    {
     "data": {
      "text/plain": [
       "<AxesSubplot:xlabel='timeline'>"
      ]
     },
     "execution_count": 6,
     "metadata": {},
     "output_type": "execute_result"
    },
    {
     "data": {
      "image/png": "[encoded data removed]",
      "text/plain": [
       "<Figure size 432x288 with 1 Axes>"
      ]
     },
     "metadata": {
      "needs_background": "light"
     },
     "output_type": "display_data"
    }
   ],
   "source": [
    "## below is an example\n",
    "\n",
    "from lifelines import KaplanMeierFitter\n",
    "from lifelines.datasets import load_waltons\n",
    "waltons = load_waltons()\n",
    "\n",
    "kmf = KaplanMeierFitter(label=\"waltons_data\")\n",
    "kmf.fit(waltons['T'], waltons['E'])\n",
    "kmf.plot()"
   ]
  },
  {
   "cell_type": "code",
   "execution_count": null,
   "id": "3b8d1df3",
   "metadata": {},
   "outputs": [],
   "source": []
  },
  {
   "cell_type": "code",
   "execution_count": null,
   "id": "eb12d1ee",
   "metadata": {},
   "outputs": [],
   "source": []
  }
 ],
 "metadata": {
  "kernelspec": {
   "display_name": "Python 3",
   "language": "python",
   "name": "python3"
  },
  "language_info": {
   "codemirror_mode": {
    "name": "ipython",
    "version": 3
   },
   "file_extension": ".py",
   "mimetype": "text/x-python",
   "name": "python",
   "nbconvert_exporter": "python",
   "pygments_lexer": "ipython3",
   "version": "3.8.8"
  }
 },
 "nbformat": 4,
 "nbformat_minor": 5
}
