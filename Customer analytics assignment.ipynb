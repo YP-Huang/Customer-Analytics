{
 "cells": [
  {
   "cell_type": "markdown",
   "id": "c463f25d",
   "metadata": {},
   "source": [
    "## 1. Import libraries and Dataset"
   ]
  },
  {
   "cell_type": "code",
   "execution_count": 1,
   "id": "a181e5a1",
   "metadata": {},
   "outputs": [],
   "source": [
    "import pandas as pd\n",
    "import numpy as np"
   ]
  },
  {
   "cell_type": "code",
   "execution_count": 2,
   "id": "9dfe96a5",
   "metadata": {},
   "outputs": [],
   "source": [
    "import matplotlib.pyplot as plt\n",
    "import seaborn as sns"
   ]
  },
  {
   "cell_type": "code",
   "execution_count": 3,
   "id": "696a8dbd",
   "metadata": {},
   "outputs": [],
   "source": [
    "%matplotlib inline"
   ]
  },
  {
   "cell_type": "code",
   "execution_count": 4,
   "id": "b68f5d18",
   "metadata": {},
   "outputs": [
    {
     "name": "stderr",
     "output_type": "stream",
     "text": [
      "/Users/yapinghuang/opt/anaconda3/lib/python3.8/site-packages/IPython/core/interactiveshell.py:3165: DtypeWarning: Columns (4) have mixed types.Specify dtype option on import or set low_memory=False.\n",
      "  has_raised = await self.run_ast_nodes(code_ast.body, cell_name,\n"
     ]
    }
   ],
   "source": [
    "df = pd.read_csv('Retail Customer Analytics Assignment1.csv', encoding = 'utf-8', sep = '\\t')"
   ]
  },
  {
   "cell_type": "code",
   "execution_count": 5,
   "id": "16e415fd",
   "metadata": {},
   "outputs": [
    {
     "data": {
      "text/html": [
       "<div>\n",
       "<style scoped>\n",
       "    .dataframe tbody tr th:only-of-type {\n",
       "        vertical-align: middle;\n",
       "    }\n",
       "\n",
       "    .dataframe tbody tr th {\n",
       "        vertical-align: top;\n",
       "    }\n",
       "\n",
       "    .dataframe thead th {\n",
       "        text-align: right;\n",
       "    }\n",
       "</style>\n",
       "<table border=\"1\" class=\"dataframe\">\n",
       "  <thead>\n",
       "    <tr style=\"text-align: right;\">\n",
       "      <th></th>\n",
       "      <th>Customer_ID</th>\n",
       "      <th>CategoryGroup</th>\n",
       "      <th>Category</th>\n",
       "      <th>InvoiceDate</th>\n",
       "      <th>Quantity</th>\n",
       "      <th>TotalPrice</th>\n",
       "    </tr>\n",
       "  </thead>\n",
       "  <tbody>\n",
       "    <tr>\n",
       "      <th>0</th>\n",
       "      <td>15550</td>\n",
       "      <td>Games &amp; Toys</td>\n",
       "      <td>Games &amp; Toys</td>\n",
       "      <td>1/1/2020</td>\n",
       "      <td>1</td>\n",
       "      <td>£8</td>\n",
       "    </tr>\n",
       "    <tr>\n",
       "      <th>1</th>\n",
       "      <td>15550</td>\n",
       "      <td>Bags &amp; Purses</td>\n",
       "      <td>Jumbo Bag</td>\n",
       "      <td>1/1/2020</td>\n",
       "      <td>1</td>\n",
       "      <td>£2</td>\n",
       "    </tr>\n",
       "    <tr>\n",
       "      <th>2</th>\n",
       "      <td>15550</td>\n",
       "      <td>Decorations</td>\n",
       "      <td>Doilies</td>\n",
       "      <td>1/1/2020</td>\n",
       "      <td>1</td>\n",
       "      <td>£1</td>\n",
       "    </tr>\n",
       "    <tr>\n",
       "      <th>3</th>\n",
       "      <td>15550</td>\n",
       "      <td>Bags &amp; Purses</td>\n",
       "      <td>Purse</td>\n",
       "      <td>1/1/2020</td>\n",
       "      <td>2</td>\n",
       "      <td>£3</td>\n",
       "    </tr>\n",
       "    <tr>\n",
       "      <th>4</th>\n",
       "      <td>15550</td>\n",
       "      <td>Bags &amp; Purses</td>\n",
       "      <td>Purse</td>\n",
       "      <td>1/1/2020</td>\n",
       "      <td>2</td>\n",
       "      <td>£3</td>\n",
       "    </tr>\n",
       "  </tbody>\n",
       "</table>\n",
       "</div>"
      ],
      "text/plain": [
       "   Customer_ID  CategoryGroup      Category InvoiceDate Quantity TotalPrice\n",
       "0        15550   Games & Toys  Games & Toys    1/1/2020        1         £8\n",
       "1        15550  Bags & Purses     Jumbo Bag    1/1/2020        1         £2\n",
       "2        15550    Decorations       Doilies    1/1/2020        1         £1\n",
       "3        15550  Bags & Purses         Purse    1/1/2020        2         £3\n",
       "4        15550  Bags & Purses         Purse    1/1/2020        2         £3"
      ]
     },
     "execution_count": 5,
     "metadata": {},
     "output_type": "execute_result"
    }
   ],
   "source": [
    "df.head()"
   ]
  },
  {
   "cell_type": "code",
   "execution_count": null,
   "id": "b70e5af0",
   "metadata": {},
   "outputs": [],
   "source": []
  },
  {
   "cell_type": "code",
   "execution_count": null,
   "id": "98d8f9ba",
   "metadata": {},
   "outputs": [],
   "source": []
  },
  {
   "cell_type": "code",
   "execution_count": 7,
   "id": "daa1c914",
   "metadata": {},
   "outputs": [
    {
     "data": {
      "text/plain": [
       "Customer_ID       int64\n",
       "CategoryGroup    object\n",
       "Category         object\n",
       "InvoiceDate      object\n",
       "Quantity         object\n",
       "TotalPrice       object\n",
       "dtype: object"
      ]
     },
     "execution_count": 7,
     "metadata": {},
     "output_type": "execute_result"
    }
   ],
   "source": [
    "df.dtypes"
   ]
  },
  {
   "cell_type": "code",
   "execution_count": 8,
   "id": "d652838c",
   "metadata": {},
   "outputs": [
    {
     "data": {
      "text/plain": [
       "Index(['Customer_ID', 'CategoryGroup', 'Category', 'InvoiceDate', 'Quantity',\n",
       "       'TotalPrice'],\n",
       "      dtype='object')"
      ]
     },
     "execution_count": 8,
     "metadata": {},
     "output_type": "execute_result"
    }
   ],
   "source": [
    "df.columns"
   ]
  },
  {
   "cell_type": "code",
   "execution_count": null,
   "id": "45a5b1ab",
   "metadata": {},
   "outputs": [],
   "source": []
  },
  {
   "cell_type": "markdown",
   "id": "12ba9600",
   "metadata": {},
   "source": [
    "##  2. Transform Datatype\n",
    "- change InvoiceDate from String to date format\n",
    "- change Total Price and Quantity from String to Integer"
   ]
  },
  {
   "cell_type": "code",
   "execution_count": 9,
   "id": "adffe7be",
   "metadata": {},
   "outputs": [],
   "source": [
    "df['InvoiceDate'] = df['InvoiceDate'].apply(pd.to_datetime)"
   ]
  },
  {
   "cell_type": "code",
   "execution_count": 10,
   "id": "970c9d62",
   "metadata": {},
   "outputs": [],
   "source": [
    "# df.Quantity.astype(int)\n",
    "df['TotalPrice'] = df.TotalPrice.apply(lambda x:x.replace(\"£\",\"\")).apply(lambda x:x.replace(\",\", \"\"))"
   ]
  },
  {
   "cell_type": "code",
   "execution_count": 11,
   "id": "daac919b",
   "metadata": {},
   "outputs": [],
   "source": [
    "df['TotalPrice'] = df['TotalPrice'].apply(pd.to_numeric)"
   ]
  },
  {
   "cell_type": "code",
   "execution_count": 12,
   "id": "e40193ca",
   "metadata": {},
   "outputs": [
    {
     "data": {
      "text/plain": [
       "Customer_ID               int64\n",
       "CategoryGroup            object\n",
       "Category                 object\n",
       "InvoiceDate      datetime64[ns]\n",
       "Quantity                 object\n",
       "TotalPrice                int64\n",
       "dtype: object"
      ]
     },
     "execution_count": 12,
     "metadata": {},
     "output_type": "execute_result"
    }
   ],
   "source": [
    "df.dtypes"
   ]
  },
  {
   "cell_type": "code",
   "execution_count": null,
   "id": "ab3db5fd",
   "metadata": {},
   "outputs": [],
   "source": []
  },
  {
   "cell_type": "code",
   "execution_count": 13,
   "id": "47635937",
   "metadata": {},
   "outputs": [],
   "source": [
    "new_df = df.replace(\"1,008\", \"1008\")"
   ]
  },
  {
   "cell_type": "code",
   "execution_count": 14,
   "id": "9e1fa6d2",
   "metadata": {},
   "outputs": [],
   "source": [
    "new_df = new_df.replace(\"1,200\", \"1200\")"
   ]
  },
  {
   "cell_type": "code",
   "execution_count": 15,
   "id": "6a1aabf2",
   "metadata": {},
   "outputs": [],
   "source": [
    "new_df = new_df.replace(\"1,000\", \"1000\")"
   ]
  },
  {
   "cell_type": "code",
   "execution_count": 16,
   "id": "fa41001a",
   "metadata": {},
   "outputs": [],
   "source": [
    "new_df = new_df.replace(\"1,500\", \"1500\")"
   ]
  },
  {
   "cell_type": "code",
   "execution_count": 17,
   "id": "39e37f83",
   "metadata": {},
   "outputs": [],
   "source": [
    "new_df['Quantity'] = new_df['Quantity'].apply(pd.to_numeric)"
   ]
  },
  {
   "cell_type": "code",
   "execution_count": 18,
   "id": "2e0b137e",
   "metadata": {},
   "outputs": [
    {
     "data": {
      "text/plain": [
       "Customer_ID               int64\n",
       "CategoryGroup            object\n",
       "Category                 object\n",
       "InvoiceDate      datetime64[ns]\n",
       "Quantity                  int64\n",
       "TotalPrice                int64\n",
       "dtype: object"
      ]
     },
     "execution_count": 18,
     "metadata": {},
     "output_type": "execute_result"
    }
   ],
   "source": [
    "new_df.dtypes"
   ]
  },
  {
   "cell_type": "code",
   "execution_count": 19,
   "id": "12657adc",
   "metadata": {},
   "outputs": [],
   "source": [
    "new_df[\"Total Sales\"] = new_df[\"Quantity\"]*df['TotalPrice']"
   ]
  },
  {
   "cell_type": "code",
   "execution_count": 20,
   "id": "f81ef00d",
   "metadata": {},
   "outputs": [
    {
     "data": {
      "text/html": [
       "<div>\n",
       "<style scoped>\n",
       "    .dataframe tbody tr th:only-of-type {\n",
       "        vertical-align: middle;\n",
       "    }\n",
       "\n",
       "    .dataframe tbody tr th {\n",
       "        vertical-align: top;\n",
       "    }\n",
       "\n",
       "    .dataframe thead th {\n",
       "        text-align: right;\n",
       "    }\n",
       "</style>\n",
       "<table border=\"1\" class=\"dataframe\">\n",
       "  <thead>\n",
       "    <tr style=\"text-align: right;\">\n",
       "      <th></th>\n",
       "      <th>Customer_ID</th>\n",
       "      <th>CategoryGroup</th>\n",
       "      <th>Category</th>\n",
       "      <th>InvoiceDate</th>\n",
       "      <th>Quantity</th>\n",
       "      <th>TotalPrice</th>\n",
       "      <th>Total Sales</th>\n",
       "    </tr>\n",
       "  </thead>\n",
       "  <tbody>\n",
       "    <tr>\n",
       "      <th>0</th>\n",
       "      <td>15550</td>\n",
       "      <td>Games &amp; Toys</td>\n",
       "      <td>Games &amp; Toys</td>\n",
       "      <td>2020-01-01</td>\n",
       "      <td>1</td>\n",
       "      <td>8</td>\n",
       "      <td>8</td>\n",
       "    </tr>\n",
       "    <tr>\n",
       "      <th>1</th>\n",
       "      <td>15550</td>\n",
       "      <td>Bags &amp; Purses</td>\n",
       "      <td>Jumbo Bag</td>\n",
       "      <td>2020-01-01</td>\n",
       "      <td>1</td>\n",
       "      <td>2</td>\n",
       "      <td>2</td>\n",
       "    </tr>\n",
       "    <tr>\n",
       "      <th>2</th>\n",
       "      <td>15550</td>\n",
       "      <td>Decorations</td>\n",
       "      <td>Doilies</td>\n",
       "      <td>2020-01-01</td>\n",
       "      <td>1</td>\n",
       "      <td>1</td>\n",
       "      <td>1</td>\n",
       "    </tr>\n",
       "    <tr>\n",
       "      <th>3</th>\n",
       "      <td>15550</td>\n",
       "      <td>Bags &amp; Purses</td>\n",
       "      <td>Purse</td>\n",
       "      <td>2020-01-01</td>\n",
       "      <td>2</td>\n",
       "      <td>3</td>\n",
       "      <td>6</td>\n",
       "    </tr>\n",
       "    <tr>\n",
       "      <th>4</th>\n",
       "      <td>15550</td>\n",
       "      <td>Bags &amp; Purses</td>\n",
       "      <td>Purse</td>\n",
       "      <td>2020-01-01</td>\n",
       "      <td>2</td>\n",
       "      <td>3</td>\n",
       "      <td>6</td>\n",
       "    </tr>\n",
       "  </tbody>\n",
       "</table>\n",
       "</div>"
      ],
      "text/plain": [
       "   Customer_ID  CategoryGroup      Category InvoiceDate  Quantity  TotalPrice  \\\n",
       "0        15550   Games & Toys  Games & Toys  2020-01-01         1           8   \n",
       "1        15550  Bags & Purses     Jumbo Bag  2020-01-01         1           2   \n",
       "2        15550    Decorations       Doilies  2020-01-01         1           1   \n",
       "3        15550  Bags & Purses         Purse  2020-01-01         2           3   \n",
       "4        15550  Bags & Purses         Purse  2020-01-01         2           3   \n",
       "\n",
       "   Total Sales  \n",
       "0            8  \n",
       "1            2  \n",
       "2            1  \n",
       "3            6  \n",
       "4            6  "
      ]
     },
     "execution_count": 20,
     "metadata": {},
     "output_type": "execute_result"
    }
   ],
   "source": [
    "new_df.head()"
   ]
  },
  {
   "cell_type": "code",
   "execution_count": 21,
   "id": "bce3956e",
   "metadata": {},
   "outputs": [],
   "source": [
    "new_df.to_csv(\"Retail Customer Analytics Cleaned data.csv\")"
   ]
  },
  {
   "cell_type": "code",
   "execution_count": 22,
   "id": "05c783f9",
   "metadata": {},
   "outputs": [
    {
     "data": {
      "text/html": [
       "<div>\n",
       "<style scoped>\n",
       "    .dataframe tbody tr th:only-of-type {\n",
       "        vertical-align: middle;\n",
       "    }\n",
       "\n",
       "    .dataframe tbody tr th {\n",
       "        vertical-align: top;\n",
       "    }\n",
       "\n",
       "    .dataframe thead th {\n",
       "        text-align: right;\n",
       "    }\n",
       "</style>\n",
       "<table border=\"1\" class=\"dataframe\">\n",
       "  <thead>\n",
       "    <tr style=\"text-align: right;\">\n",
       "      <th></th>\n",
       "      <th>CategoryGroup</th>\n",
       "      <th>Total Sales</th>\n",
       "    </tr>\n",
       "  </thead>\n",
       "  <tbody>\n",
       "    <tr>\n",
       "      <th>0</th>\n",
       "      <td>Accessories</td>\n",
       "      <td>1770872</td>\n",
       "    </tr>\n",
       "    <tr>\n",
       "      <th>1</th>\n",
       "      <td>Arts &amp; Crafts</td>\n",
       "      <td>3727624</td>\n",
       "    </tr>\n",
       "    <tr>\n",
       "      <th>2</th>\n",
       "      <td>Bags &amp; Purses</td>\n",
       "      <td>16921762</td>\n",
       "    </tr>\n",
       "    <tr>\n",
       "      <th>3</th>\n",
       "      <td>Bathroom</td>\n",
       "      <td>2041993</td>\n",
       "    </tr>\n",
       "    <tr>\n",
       "      <th>4</th>\n",
       "      <td>Beauty &amp; Wellbeing</td>\n",
       "      <td>1575397</td>\n",
       "    </tr>\n",
       "    <tr>\n",
       "      <th>5</th>\n",
       "      <td>Candles</td>\n",
       "      <td>13117961</td>\n",
       "    </tr>\n",
       "    <tr>\n",
       "      <th>6</th>\n",
       "      <td>Car &amp; Bicycle</td>\n",
       "      <td>67466</td>\n",
       "    </tr>\n",
       "    <tr>\n",
       "      <th>7</th>\n",
       "      <td>Children</td>\n",
       "      <td>1612797</td>\n",
       "    </tr>\n",
       "    <tr>\n",
       "      <th>8</th>\n",
       "      <td>Christmas</td>\n",
       "      <td>7018183</td>\n",
       "    </tr>\n",
       "    <tr>\n",
       "      <th>9</th>\n",
       "      <td>Cleaning &amp; Laundry</td>\n",
       "      <td>597151</td>\n",
       "    </tr>\n",
       "    <tr>\n",
       "      <th>10</th>\n",
       "      <td>Clothes &amp; Shoes</td>\n",
       "      <td>974616</td>\n",
       "    </tr>\n",
       "    <tr>\n",
       "      <th>11</th>\n",
       "      <td>Decorations</td>\n",
       "      <td>14377714</td>\n",
       "    </tr>\n",
       "    <tr>\n",
       "      <th>12</th>\n",
       "      <td>Easter</td>\n",
       "      <td>296317</td>\n",
       "    </tr>\n",
       "    <tr>\n",
       "      <th>13</th>\n",
       "      <td>Furniture</td>\n",
       "      <td>371482</td>\n",
       "    </tr>\n",
       "    <tr>\n",
       "      <th>14</th>\n",
       "      <td>Games &amp; Toys</td>\n",
       "      <td>5866923</td>\n",
       "    </tr>\n",
       "    <tr>\n",
       "      <th>15</th>\n",
       "      <td>Garden</td>\n",
       "      <td>3221883</td>\n",
       "    </tr>\n",
       "    <tr>\n",
       "      <th>16</th>\n",
       "      <td>Gift</td>\n",
       "      <td>3153009</td>\n",
       "    </tr>\n",
       "    <tr>\n",
       "      <th>17</th>\n",
       "      <td>Home Accessories</td>\n",
       "      <td>8972613</td>\n",
       "    </tr>\n",
       "    <tr>\n",
       "      <th>18</th>\n",
       "      <td>Jewellery</td>\n",
       "      <td>965133</td>\n",
       "    </tr>\n",
       "    <tr>\n",
       "      <th>19</th>\n",
       "      <td>Kitchen</td>\n",
       "      <td>19530569</td>\n",
       "    </tr>\n",
       "    <tr>\n",
       "      <th>20</th>\n",
       "      <td>Lamps &amp; Lights</td>\n",
       "      <td>2313706</td>\n",
       "    </tr>\n",
       "    <tr>\n",
       "      <th>21</th>\n",
       "      <td>Luggage &amp; Travel</td>\n",
       "      <td>120335</td>\n",
       "    </tr>\n",
       "    <tr>\n",
       "      <th>22</th>\n",
       "      <td>Ornaments</td>\n",
       "      <td>2533227</td>\n",
       "    </tr>\n",
       "    <tr>\n",
       "      <th>23</th>\n",
       "      <td>Party</td>\n",
       "      <td>754188</td>\n",
       "    </tr>\n",
       "    <tr>\n",
       "      <th>24</th>\n",
       "      <td>Pets</td>\n",
       "      <td>62885</td>\n",
       "    </tr>\n",
       "    <tr>\n",
       "      <th>25</th>\n",
       "      <td>Phone &amp; Electronics</td>\n",
       "      <td>33456</td>\n",
       "    </tr>\n",
       "    <tr>\n",
       "      <th>26</th>\n",
       "      <td>Stationery &amp; Office Supplies</td>\n",
       "      <td>7237945</td>\n",
       "    </tr>\n",
       "    <tr>\n",
       "      <th>27</th>\n",
       "      <td>Storage &amp; Organization</td>\n",
       "      <td>2257468</td>\n",
       "    </tr>\n",
       "    <tr>\n",
       "      <th>28</th>\n",
       "      <td>Tools &amp; Diy</td>\n",
       "      <td>318923</td>\n",
       "    </tr>\n",
       "  </tbody>\n",
       "</table>\n",
       "</div>"
      ],
      "text/plain": [
       "                   CategoryGroup  Total Sales\n",
       "0                    Accessories      1770872\n",
       "1                  Arts & Crafts      3727624\n",
       "2                  Bags & Purses     16921762\n",
       "3                       Bathroom      2041993\n",
       "4             Beauty & Wellbeing      1575397\n",
       "5                        Candles     13117961\n",
       "6                  Car & Bicycle        67466\n",
       "7                       Children      1612797\n",
       "8                      Christmas      7018183\n",
       "9             Cleaning & Laundry       597151\n",
       "10               Clothes & Shoes       974616\n",
       "11                   Decorations     14377714\n",
       "12                        Easter       296317\n",
       "13                     Furniture       371482\n",
       "14                  Games & Toys      5866923\n",
       "15                        Garden      3221883\n",
       "16                          Gift      3153009\n",
       "17              Home Accessories      8972613\n",
       "18                     Jewellery       965133\n",
       "19                       Kitchen     19530569\n",
       "20                Lamps & Lights      2313706\n",
       "21              Luggage & Travel       120335\n",
       "22                     Ornaments      2533227\n",
       "23                         Party       754188\n",
       "24                          Pets        62885\n",
       "25           Phone & Electronics        33456\n",
       "26  Stationery & Office Supplies      7237945\n",
       "27        Storage & Organization      2257468\n",
       "28                   Tools & Diy       318923"
      ]
     },
     "execution_count": 22,
     "metadata": {},
     "output_type": "execute_result"
    }
   ],
   "source": [
    "new_df.groupby(\"CategoryGroup\", as_index=False)['Total Sales'].sum()"
   ]
  },
  {
   "cell_type": "markdown",
   "id": "b39b6bdd",
   "metadata": {},
   "source": [
    "## 3. Group customers data into: monetary, frequecy and recency"
   ]
  },
  {
   "cell_type": "code",
   "execution_count": 348,
   "id": "1264313e",
   "metadata": {},
   "outputs": [],
   "source": [
    "df1 = pd.DataFrame(new_df.groupby(\"Customer_ID\", as_index=False)[\"InvoiceDate\"].max()).rename(\n",
    "    columns={\"InvoiceDate\":\"Recency\"})"
   ]
  },
  {
   "cell_type": "code",
   "execution_count": 349,
   "id": "06d8fae5",
   "metadata": {},
   "outputs": [],
   "source": [
    "from datetime import date"
   ]
  },
  {
   "cell_type": "code",
   "execution_count": 350,
   "id": "b9a3e63c",
   "metadata": {},
   "outputs": [
    {
     "data": {
      "text/plain": [
       "datetime.date(2022, 9, 24)"
      ]
     },
     "execution_count": 350,
     "metadata": {},
     "output_type": "execute_result"
    }
   ],
   "source": [
    "date.today()"
   ]
  },
  {
   "cell_type": "code",
   "execution_count": 351,
   "id": "93e4c736",
   "metadata": {},
   "outputs": [
    {
     "data": {
      "text/plain": [
       "datetime.date(2021, 10, 19)"
      ]
     },
     "execution_count": 351,
     "metadata": {},
     "output_type": "execute_result"
    }
   ],
   "source": [
    "df1['Recency'][1].date()"
   ]
  },
  {
   "cell_type": "code",
   "execution_count": 352,
   "id": "5e2fc729",
   "metadata": {},
   "outputs": [
    {
     "data": {
      "text/plain": [
       "datetime.timedelta(days=340)"
      ]
     },
     "execution_count": 352,
     "metadata": {},
     "output_type": "execute_result"
    }
   ],
   "source": [
    "date.today()-df1['Recency'][1].date()"
   ]
  },
  {
   "cell_type": "code",
   "execution_count": 354,
   "id": "a4f6062c",
   "metadata": {},
   "outputs": [],
   "source": [
    "df1[\"Recency\"] = df1['Recency'].apply(lambda x:(date.today()-x.date())).dt.days"
   ]
  },
  {
   "cell_type": "code",
   "execution_count": null,
   "id": "86e35d62",
   "metadata": {},
   "outputs": [],
   "source": []
  },
  {
   "cell_type": "code",
   "execution_count": 356,
   "id": "c9e46663",
   "metadata": {},
   "outputs": [],
   "source": [
    "df2 = pd.DataFrame(new_df.groupby(\"Customer_ID\",as_index=False)[\"Total Sales\"].sum()).rename(\n",
    "    columns={\"Total Sales\":\"Monetary\"})"
   ]
  },
  {
   "cell_type": "code",
   "execution_count": 357,
   "id": "828f6787",
   "metadata": {},
   "outputs": [],
   "source": [
    "df3 = pd.DataFrame(new_df.groupby(\"Customer_ID\", as_index=False)['Total Sales'].count()).rename(\n",
    "    columns={\"Total Sales\":\"Frequency\"})"
   ]
  },
  {
   "cell_type": "code",
   "execution_count": 358,
   "id": "48af4752",
   "metadata": {},
   "outputs": [],
   "source": [
    "df_rfm = pd.merge(pd.merge(df1, df2), df3)"
   ]
  },
  {
   "cell_type": "code",
   "execution_count": 359,
   "id": "21597a0e",
   "metadata": {},
   "outputs": [
    {
     "data": {
      "text/plain": [
       "Customer_ID    int64\n",
       "Recency        int64\n",
       "Monetary       int64\n",
       "Frequency      int64\n",
       "dtype: object"
      ]
     },
     "execution_count": 359,
     "metadata": {},
     "output_type": "execute_result"
    }
   ],
   "source": [
    "df_rfm.dtypes"
   ]
  },
  {
   "cell_type": "code",
   "execution_count": 375,
   "id": "9ee44fff",
   "metadata": {},
   "outputs": [
    {
     "data": {
      "text/html": [
       "<div>\n",
       "<style scoped>\n",
       "    .dataframe tbody tr th:only-of-type {\n",
       "        vertical-align: middle;\n",
       "    }\n",
       "\n",
       "    .dataframe tbody tr th {\n",
       "        vertical-align: top;\n",
       "    }\n",
       "\n",
       "    .dataframe thead th {\n",
       "        text-align: right;\n",
       "    }\n",
       "</style>\n",
       "<table border=\"1\" class=\"dataframe\">\n",
       "  <thead>\n",
       "    <tr style=\"text-align: right;\">\n",
       "      <th></th>\n",
       "      <th>Customer_ID</th>\n",
       "      <th>Recency</th>\n",
       "      <th>Monetary</th>\n",
       "      <th>Frequency</th>\n",
       "    </tr>\n",
       "  </thead>\n",
       "  <tbody>\n",
       "    <tr>\n",
       "      <th>count</th>\n",
       "      <td>5010.000000</td>\n",
       "      <td>5010.000000</td>\n",
       "      <td>5.010000e+03</td>\n",
       "      <td>5010.000000</td>\n",
       "    </tr>\n",
       "    <tr>\n",
       "      <th>mean</th>\n",
       "      <td>15347.613772</td>\n",
       "      <td>526.811178</td>\n",
       "      <td>2.431409e+04</td>\n",
       "      <td>79.019561</td>\n",
       "    </tr>\n",
       "    <tr>\n",
       "      <th>std</th>\n",
       "      <td>1705.446674</td>\n",
       "      <td>197.146086</td>\n",
       "      <td>8.572177e+04</td>\n",
       "      <td>99.242914</td>\n",
       "    </tr>\n",
       "    <tr>\n",
       "      <th>min</th>\n",
       "      <td>12348.000000</td>\n",
       "      <td>322.000000</td>\n",
       "      <td>4.000000e+00</td>\n",
       "      <td>1.000000</td>\n",
       "    </tr>\n",
       "    <tr>\n",
       "      <th>25%</th>\n",
       "      <td>13869.000000</td>\n",
       "      <td>353.000000</td>\n",
       "      <td>2.825750e+03</td>\n",
       "      <td>19.000000</td>\n",
       "    </tr>\n",
       "    <tr>\n",
       "      <th>50%</th>\n",
       "      <td>15360.500000</td>\n",
       "      <td>442.000000</td>\n",
       "      <td>7.737000e+03</td>\n",
       "      <td>44.000000</td>\n",
       "    </tr>\n",
       "    <tr>\n",
       "      <th>75%</th>\n",
       "      <td>16818.750000</td>\n",
       "      <td>703.000000</td>\n",
       "      <td>2.106525e+04</td>\n",
       "      <td>99.000000</td>\n",
       "    </tr>\n",
       "    <tr>\n",
       "      <th>max</th>\n",
       "      <td>18287.000000</td>\n",
       "      <td>997.000000</td>\n",
       "      <td>4.035269e+06</td>\n",
       "      <td>996.000000</td>\n",
       "    </tr>\n",
       "  </tbody>\n",
       "</table>\n",
       "</div>"
      ],
      "text/plain": [
       "        Customer_ID      Recency      Monetary    Frequency\n",
       "count   5010.000000  5010.000000  5.010000e+03  5010.000000\n",
       "mean   15347.613772   526.811178  2.431409e+04    79.019561\n",
       "std     1705.446674   197.146086  8.572177e+04    99.242914\n",
       "min    12348.000000   322.000000  4.000000e+00     1.000000\n",
       "25%    13869.000000   353.000000  2.825750e+03    19.000000\n",
       "50%    15360.500000   442.000000  7.737000e+03    44.000000\n",
       "75%    16818.750000   703.000000  2.106525e+04    99.000000\n",
       "max    18287.000000   997.000000  4.035269e+06   996.000000"
      ]
     },
     "execution_count": 375,
     "metadata": {},
     "output_type": "execute_result"
    }
   ],
   "source": [
    "df_rfm.describe()"
   ]
  },
  {
   "cell_type": "code",
   "execution_count": null,
   "id": "a10394a8",
   "metadata": {},
   "outputs": [],
   "source": []
  },
  {
   "cell_type": "markdown",
   "id": "aa0163e8",
   "metadata": {},
   "source": [
    "## 4. Exploratory Data Analysis with Seaborn"
   ]
  },
  {
   "cell_type": "code",
   "execution_count": 382,
   "id": "c9b9164e",
   "metadata": {},
   "outputs": [
    {
     "data": {
      "text/plain": [
       "<seaborn.axisgrid.PairGrid at 0x7fbea6ea2730>"
      ]
     },
     "execution_count": 382,
     "metadata": {},
     "output_type": "execute_result"
    },
    {
     "data": {
      "image/png": "[encoded data removed]",
      "text/plain": [
       "<Figure size 540x540 with 12 Axes>"
      ]
     },
     "metadata": {
      "needs_background": "light"
     },
     "output_type": "display_data"
    }
   ],
   "source": [
    "sns.pairplot(df_rfm.drop(\"Customer_ID\", axis=1))"
   ]
  },
  {
   "cell_type": "code",
   "execution_count": 369,
   "id": "ca5a09a3",
   "metadata": {},
   "outputs": [
    {
     "data": {
      "text/plain": [
       "<seaborn.axisgrid.JointGrid at 0x7fbe99bfeca0>"
      ]
     },
     "execution_count": 369,
     "metadata": {},
     "output_type": "execute_result"
    },
    {
     "data": {
      "image/png": "[encoded data removed]",
      "text/plain": [
       "<Figure size 432x432 with 3 Axes>"
      ]
     },
     "metadata": {
      "needs_background": "light"
     },
     "output_type": "display_data"
    }
   ],
   "source": [
    "sns.jointplot(data=df_rfm, x=\"Frequency\", y=\"Monetary\")"
   ]
  },
  {
   "cell_type": "code",
   "execution_count": 370,
   "id": "1694ae84",
   "metadata": {},
   "outputs": [
    {
     "data": {
      "text/plain": [
       "<seaborn.axisgrid.JointGrid at 0x7fbe99ef3790>"
      ]
     },
     "execution_count": 370,
     "metadata": {},
     "output_type": "execute_result"
    },
    {
     "data": {
      "image/png": "[encoded data removed]",
      "text/plain": [
       "<Figure size 432x432 with 3 Axes>"
      ]
     },
     "metadata": {
      "needs_background": "light"
     },
     "output_type": "display_data"
    }
   ],
   "source": [
    "sns.jointplot(data=df_rfm, x=\"Recency\", y=\"Monetary\")"
   ]
  },
  {
   "cell_type": "code",
   "execution_count": null,
   "id": "f22358ce",
   "metadata": {},
   "outputs": [],
   "source": []
  },
  {
   "cell_type": "markdown",
   "id": "1c41a8fb",
   "metadata": {},
   "source": [
    "## 5. K-Mean Clustering"
   ]
  },
  {
   "cell_type": "code",
   "execution_count": null,
   "id": "e4a40180",
   "metadata": {},
   "outputs": [],
   "source": []
  },
  {
   "cell_type": "code",
   "execution_count": null,
   "id": "c600031b",
   "metadata": {},
   "outputs": [],
   "source": []
  },
  {
   "cell_type": "code",
   "execution_count": 360,
   "id": "c8e69089",
   "metadata": {},
   "outputs": [],
   "source": [
    "from sklearn.cluster import KMeans"
   ]
  },
  {
   "cell_type": "code",
   "execution_count": 361,
   "id": "705a8ccc",
   "metadata": {},
   "outputs": [],
   "source": [
    "kmeans = KMeans(n_clusters=5)"
   ]
  },
  {
   "cell_type": "code",
   "execution_count": 362,
   "id": "dec60cbf",
   "metadata": {},
   "outputs": [
    {
     "data": {
      "text/plain": [
       "KMeans(n_clusters=5)"
      ]
     },
     "execution_count": 362,
     "metadata": {},
     "output_type": "execute_result"
    }
   ],
   "source": [
    "kmeans.fit(df_rfm.drop(\"Customer_ID\", axis=1))"
   ]
  },
  {
   "cell_type": "code",
   "execution_count": 367,
   "id": "b499c8b6",
   "metadata": {},
   "outputs": [
    {
     "data": {
      "text/plain": [
       "Text(0, 0.5, 'Monetary')"
      ]
     },
     "execution_count": 367,
     "metadata": {},
     "output_type": "execute_result"
    },
    {
     "data": {
      "image/png": "[encoded data removed]",
      "text/plain": [
       "<Figure size 432x288 with 1 Axes>"
      ]
     },
     "metadata": {
      "needs_background": "light"
     },
     "output_type": "display_data"
    }
   ],
   "source": [
    "fig = plt.figure()\n",
    "axes = fig.add_axes([0.1, 0.1, 1, 1])\n",
    "\n",
    "axes.set_title('K Means Clustering')\n",
    "axes.scatter(df_rfm['Frequency'],df_rfm['Monetary'],c=kmeans.labels_,cmap='rainbow')\n",
    "\n",
    "axes.set_xlabel('Frequency') \n",
    "axes.set_ylabel('Monetary')\n"
   ]
  },
  {
   "cell_type": "code",
   "execution_count": 373,
   "id": "63a483e9",
   "metadata": {},
   "outputs": [
    {
     "data": {
      "text/plain": [
       "Text(0, 0.5, 'Monetary')"
      ]
     },
     "execution_count": 373,
     "metadata": {},
     "output_type": "execute_result"
    },
    {
     "data": {
      "image/png": "[encoded data removed]",
      "text/plain": [
       "<Figure size 432x288 with 1 Axes>"
      ]
     },
     "metadata": {
      "needs_background": "light"
     },
     "output_type": "display_data"
    }
   ],
   "source": [
    "fig = plt.figure()\n",
    "axes = fig.add_axes([0.1, 0.1, 1, 1])\n",
    "\n",
    "axes.set_title('K Means Clustering')\n",
    "axes.scatter(df_rfm['Recency'],df_rfm['Monetary'],c=kmeans.labels_,cmap='rainbow')\n",
    "\n",
    "axes.set_xlabel('Recency') \n",
    "axes.set_ylabel('Monetary')"
   ]
  },
  {
   "cell_type": "code",
   "execution_count": null,
   "id": "15035b14",
   "metadata": {},
   "outputs": [],
   "source": []
  }
 ],
 "metadata": {
  "kernelspec": {
   "display_name": "Python 3",
   "language": "python",
   "name": "python3"
  },
  "language_info": {
   "codemirror_mode": {
    "name": "ipython",
    "version": 3
   },
   "file_extension": ".py",
   "mimetype": "text/x-python",
   "name": "python",
   "nbconvert_exporter": "python",
   "pygments_lexer": "ipython3",
   "version": "3.8.8"
  }
 },
 "nbformat": 4,
 "nbformat_minor": 5
}
